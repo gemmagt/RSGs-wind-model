{
 "cells": [
  {
   "cell_type": "markdown",
   "metadata": {},
   "source": [
    "# Find the MARCS scaling factor\n",
    "\n",
    "This program should not be modified!!! check directly the file \"rescale-MARCS-factors.txt\"\n",
    "\n",
    "Here, we get the MIST evolutionary tracks for each different log L/Lsun and find the conversion factor to the initial MARCS models for \"MODEL_MARCS_WIND_FACTOR-15M_v3-grid-beta-gamma-V460-Car.ipynb\",\n",
    "\n",
    "The rest of the \"Read_MIST_tracks-rescale-MARCS-factor\" files are the same but for increasing masses and luminosities. Check the factors at the very end and the corresponding luminosities to decide the factor you want to use in your model!"
   ]
  },
  {
   "cell_type": "code",
   "execution_count": 13,
   "metadata": {},
   "outputs": [],
   "source": [
    "import numpy as np\n",
    "import pandas as pd\n",
    "import matplotlib.pyplot as plt\n",
    "%matplotlib qt"
   ]
  },
  {
   "cell_type": "code",
   "execution_count": 14,
   "metadata": {},
   "outputs": [
    {
     "data": {
      "text/html": [
       "<div>\n",
       "<style scoped>\n",
       "    .dataframe tbody tr th:only-of-type {\n",
       "        vertical-align: middle;\n",
       "    }\n",
       "\n",
       "    .dataframe tbody tr th {\n",
       "        vertical-align: top;\n",
       "    }\n",
       "\n",
       "    .dataframe thead th {\n",
       "        text-align: right;\n",
       "    }\n",
       "</style>\n",
       "<table border=\"1\" class=\"dataframe\">\n",
       "  <thead>\n",
       "    <tr style=\"text-align: right;\">\n",
       "      <th></th>\n",
       "      <th>star_age</th>\n",
       "      <th>star_mass</th>\n",
       "      <th>star_mdot</th>\n",
       "      <th>he_core_mass</th>\n",
       "      <th>c_core_mass</th>\n",
       "      <th>o_core_mass</th>\n",
       "      <th>log_L</th>\n",
       "      <th>log_L_div_Ledd</th>\n",
       "      <th>log_LH</th>\n",
       "      <th>log_LHe</th>\n",
       "      <th>...</th>\n",
       "      <th>delta_Pg</th>\n",
       "      <th>nu_max</th>\n",
       "      <th>acoustic_cutoff</th>\n",
       "      <th>max_conv_vel_div_csound</th>\n",
       "      <th>max_gradT_div_grada</th>\n",
       "      <th>gradT_excess_alpha</th>\n",
       "      <th>min_Pgas_div_P</th>\n",
       "      <th>max_L_rad_div_Ledd</th>\n",
       "      <th>e_thermal</th>\n",
       "      <th>phase</th>\n",
       "    </tr>\n",
       "  </thead>\n",
       "  <tbody>\n",
       "    <tr>\n",
       "      <td>0</td>\n",
       "      <td>1.682109e+02</td>\n",
       "      <td>19.999972</td>\n",
       "      <td>-1.419227e-07</td>\n",
       "      <td>0.00000</td>\n",
       "      <td>0.000000</td>\n",
       "      <td>0.0</td>\n",
       "      <td>4.157231</td>\n",
       "      <td>-3.045627</td>\n",
       "      <td>-6.145567</td>\n",
       "      <td>-99.000000</td>\n",
       "      <td>...</td>\n",
       "      <td>0.000000</td>\n",
       "      <td>1.276711</td>\n",
       "      <td>11.859319</td>\n",
       "      <td>0.629086</td>\n",
       "      <td>9.963203</td>\n",
       "      <td>0.000000</td>\n",
       "      <td>0.847186</td>\n",
       "      <td>0.176966</td>\n",
       "      <td>8.999574e+48</td>\n",
       "      <td>-1.0</td>\n",
       "    </tr>\n",
       "    <tr>\n",
       "      <td>1</td>\n",
       "      <td>1.746411e+02</td>\n",
       "      <td>19.999971</td>\n",
       "      <td>-1.403129e-07</td>\n",
       "      <td>0.00000</td>\n",
       "      <td>0.000000</td>\n",
       "      <td>0.0</td>\n",
       "      <td>4.154669</td>\n",
       "      <td>-3.046831</td>\n",
       "      <td>-6.113032</td>\n",
       "      <td>-99.000000</td>\n",
       "      <td>...</td>\n",
       "      <td>0.000000</td>\n",
       "      <td>1.286929</td>\n",
       "      <td>11.954524</td>\n",
       "      <td>0.628894</td>\n",
       "      <td>9.957794</td>\n",
       "      <td>0.000000</td>\n",
       "      <td>0.847451</td>\n",
       "      <td>0.176608</td>\n",
       "      <td>9.037575e+48</td>\n",
       "      <td>-1.0</td>\n",
       "    </tr>\n",
       "    <tr>\n",
       "      <td>2</td>\n",
       "      <td>1.812894e+02</td>\n",
       "      <td>19.999970</td>\n",
       "      <td>-1.386824e-07</td>\n",
       "      <td>0.00000</td>\n",
       "      <td>0.000000</td>\n",
       "      <td>0.0</td>\n",
       "      <td>4.152035</td>\n",
       "      <td>-3.047986</td>\n",
       "      <td>-6.079768</td>\n",
       "      <td>-99.000000</td>\n",
       "      <td>...</td>\n",
       "      <td>0.000000</td>\n",
       "      <td>1.297466</td>\n",
       "      <td>12.052679</td>\n",
       "      <td>0.628715</td>\n",
       "      <td>9.952292</td>\n",
       "      <td>0.000000</td>\n",
       "      <td>0.847729</td>\n",
       "      <td>0.176098</td>\n",
       "      <td>9.076628e+48</td>\n",
       "      <td>-1.0</td>\n",
       "    </tr>\n",
       "    <tr>\n",
       "      <td>3</td>\n",
       "      <td>1.881709e+02</td>\n",
       "      <td>19.999969</td>\n",
       "      <td>-1.370273e-07</td>\n",
       "      <td>0.00000</td>\n",
       "      <td>0.000000</td>\n",
       "      <td>0.0</td>\n",
       "      <td>4.149314</td>\n",
       "      <td>-3.048688</td>\n",
       "      <td>-6.045334</td>\n",
       "      <td>-99.000000</td>\n",
       "      <td>...</td>\n",
       "      <td>0.000000</td>\n",
       "      <td>1.308460</td>\n",
       "      <td>12.155098</td>\n",
       "      <td>0.628508</td>\n",
       "      <td>9.946703</td>\n",
       "      <td>0.000000</td>\n",
       "      <td>0.848023</td>\n",
       "      <td>0.175592</td>\n",
       "      <td>9.117274e+48</td>\n",
       "      <td>-1.0</td>\n",
       "    </tr>\n",
       "    <tr>\n",
       "      <td>4</td>\n",
       "      <td>1.953006e+02</td>\n",
       "      <td>19.999968</td>\n",
       "      <td>-1.353389e-07</td>\n",
       "      <td>0.00000</td>\n",
       "      <td>0.000000</td>\n",
       "      <td>0.0</td>\n",
       "      <td>4.146508</td>\n",
       "      <td>-3.049240</td>\n",
       "      <td>-6.009772</td>\n",
       "      <td>-99.000000</td>\n",
       "      <td>...</td>\n",
       "      <td>0.000000</td>\n",
       "      <td>1.319912</td>\n",
       "      <td>12.261783</td>\n",
       "      <td>0.628282</td>\n",
       "      <td>9.940932</td>\n",
       "      <td>0.000000</td>\n",
       "      <td>0.848333</td>\n",
       "      <td>0.175175</td>\n",
       "      <td>9.159487e+48</td>\n",
       "      <td>-1.0</td>\n",
       "    </tr>\n",
       "    <tr>\n",
       "      <td>...</td>\n",
       "      <td>...</td>\n",
       "      <td>...</td>\n",
       "      <td>...</td>\n",
       "      <td>...</td>\n",
       "      <td>...</td>\n",
       "      <td>...</td>\n",
       "      <td>...</td>\n",
       "      <td>...</td>\n",
       "      <td>...</td>\n",
       "      <td>...</td>\n",
       "      <td>...</td>\n",
       "      <td>...</td>\n",
       "      <td>...</td>\n",
       "      <td>...</td>\n",
       "      <td>...</td>\n",
       "      <td>...</td>\n",
       "      <td>...</td>\n",
       "      <td>...</td>\n",
       "      <td>...</td>\n",
       "      <td>...</td>\n",
       "      <td>...</td>\n",
       "    </tr>\n",
       "    <tr>\n",
       "      <td>803</td>\n",
       "      <td>9.621219e+06</td>\n",
       "      <td>14.091642</td>\n",
       "      <td>-1.404731e-05</td>\n",
       "      <td>6.56975</td>\n",
       "      <td>4.196885</td>\n",
       "      <td>0.0</td>\n",
       "      <td>5.236761</td>\n",
       "      <td>-2.475946</td>\n",
       "      <td>5.878608</td>\n",
       "      <td>5.698290</td>\n",
       "      <td>...</td>\n",
       "      <td>3695.181091</td>\n",
       "      <td>0.048234</td>\n",
       "      <td>0.479627</td>\n",
       "      <td>0.868080</td>\n",
       "      <td>14.749117</td>\n",
       "      <td>0.270663</td>\n",
       "      <td>0.358631</td>\n",
       "      <td>0.672151</td>\n",
       "      <td>3.482538e+51</td>\n",
       "      <td>4.0</td>\n",
       "    </tr>\n",
       "    <tr>\n",
       "      <td>804</td>\n",
       "      <td>9.621224e+06</td>\n",
       "      <td>14.091568</td>\n",
       "      <td>-1.403440e-05</td>\n",
       "      <td>6.56975</td>\n",
       "      <td>4.199047</td>\n",
       "      <td>0.0</td>\n",
       "      <td>5.236473</td>\n",
       "      <td>-2.476537</td>\n",
       "      <td>5.934429</td>\n",
       "      <td>5.740762</td>\n",
       "      <td>...</td>\n",
       "      <td>3722.339455</td>\n",
       "      <td>0.048236</td>\n",
       "      <td>0.479638</td>\n",
       "      <td>0.867794</td>\n",
       "      <td>14.750619</td>\n",
       "      <td>0.270017</td>\n",
       "      <td>0.358511</td>\n",
       "      <td>0.671530</td>\n",
       "      <td>3.511026e+51</td>\n",
       "      <td>4.0</td>\n",
       "    </tr>\n",
       "    <tr>\n",
       "      <td>805</td>\n",
       "      <td>9.621227e+06</td>\n",
       "      <td>14.091525</td>\n",
       "      <td>-1.402550e-05</td>\n",
       "      <td>6.56975</td>\n",
       "      <td>4.199781</td>\n",
       "      <td>0.0</td>\n",
       "      <td>5.236286</td>\n",
       "      <td>-2.476610</td>\n",
       "      <td>6.020956</td>\n",
       "      <td>5.776663</td>\n",
       "      <td>...</td>\n",
       "      <td>3795.970500</td>\n",
       "      <td>0.048236</td>\n",
       "      <td>0.479641</td>\n",
       "      <td>0.867553</td>\n",
       "      <td>14.750984</td>\n",
       "      <td>0.269590</td>\n",
       "      <td>0.358483</td>\n",
       "      <td>0.670807</td>\n",
       "      <td>3.536179e+51</td>\n",
       "      <td>4.0</td>\n",
       "    </tr>\n",
       "    <tr>\n",
       "      <td>806</td>\n",
       "      <td>9.621230e+06</td>\n",
       "      <td>14.091483</td>\n",
       "      <td>-1.401689e-05</td>\n",
       "      <td>6.56975</td>\n",
       "      <td>4.200412</td>\n",
       "      <td>0.0</td>\n",
       "      <td>5.236106</td>\n",
       "      <td>-2.476644</td>\n",
       "      <td>6.109715</td>\n",
       "      <td>5.812087</td>\n",
       "      <td>...</td>\n",
       "      <td>3872.980497</td>\n",
       "      <td>0.048237</td>\n",
       "      <td>0.479643</td>\n",
       "      <td>0.867315</td>\n",
       "      <td>14.751267</td>\n",
       "      <td>0.269180</td>\n",
       "      <td>0.358461</td>\n",
       "      <td>0.670077</td>\n",
       "      <td>3.561089e+51</td>\n",
       "      <td>4.0</td>\n",
       "    </tr>\n",
       "    <tr>\n",
       "      <td>807</td>\n",
       "      <td>9.621233e+06</td>\n",
       "      <td>14.091442</td>\n",
       "      <td>-1.400829e-05</td>\n",
       "      <td>6.56975</td>\n",
       "      <td>4.201042</td>\n",
       "      <td>0.0</td>\n",
       "      <td>5.235927</td>\n",
       "      <td>-2.476679</td>\n",
       "      <td>6.198473</td>\n",
       "      <td>5.847510</td>\n",
       "      <td>...</td>\n",
       "      <td>3949.990493</td>\n",
       "      <td>0.048238</td>\n",
       "      <td>0.479645</td>\n",
       "      <td>0.867077</td>\n",
       "      <td>14.751549</td>\n",
       "      <td>0.268770</td>\n",
       "      <td>0.358439</td>\n",
       "      <td>0.669347</td>\n",
       "      <td>3.585998e+51</td>\n",
       "      <td>5.0</td>\n",
       "    </tr>\n",
       "  </tbody>\n",
       "</table>\n",
       "<p>808 rows × 77 columns</p>\n",
       "</div>"
      ],
      "text/plain": [
       "         star_age  star_mass     star_mdot  he_core_mass  c_core_mass  \\\n",
       "0    1.682109e+02  19.999972 -1.419227e-07       0.00000     0.000000   \n",
       "1    1.746411e+02  19.999971 -1.403129e-07       0.00000     0.000000   \n",
       "2    1.812894e+02  19.999970 -1.386824e-07       0.00000     0.000000   \n",
       "3    1.881709e+02  19.999969 -1.370273e-07       0.00000     0.000000   \n",
       "4    1.953006e+02  19.999968 -1.353389e-07       0.00000     0.000000   \n",
       "..            ...        ...           ...           ...          ...   \n",
       "803  9.621219e+06  14.091642 -1.404731e-05       6.56975     4.196885   \n",
       "804  9.621224e+06  14.091568 -1.403440e-05       6.56975     4.199047   \n",
       "805  9.621227e+06  14.091525 -1.402550e-05       6.56975     4.199781   \n",
       "806  9.621230e+06  14.091483 -1.401689e-05       6.56975     4.200412   \n",
       "807  9.621233e+06  14.091442 -1.400829e-05       6.56975     4.201042   \n",
       "\n",
       "     o_core_mass     log_L  log_L_div_Ledd    log_LH    log_LHe  ...  \\\n",
       "0            0.0  4.157231       -3.045627 -6.145567 -99.000000  ...   \n",
       "1            0.0  4.154669       -3.046831 -6.113032 -99.000000  ...   \n",
       "2            0.0  4.152035       -3.047986 -6.079768 -99.000000  ...   \n",
       "3            0.0  4.149314       -3.048688 -6.045334 -99.000000  ...   \n",
       "4            0.0  4.146508       -3.049240 -6.009772 -99.000000  ...   \n",
       "..           ...       ...             ...       ...        ...  ...   \n",
       "803          0.0  5.236761       -2.475946  5.878608   5.698290  ...   \n",
       "804          0.0  5.236473       -2.476537  5.934429   5.740762  ...   \n",
       "805          0.0  5.236286       -2.476610  6.020956   5.776663  ...   \n",
       "806          0.0  5.236106       -2.476644  6.109715   5.812087  ...   \n",
       "807          0.0  5.235927       -2.476679  6.198473   5.847510  ...   \n",
       "\n",
       "        delta_Pg    nu_max  acoustic_cutoff  max_conv_vel_div_csound  \\\n",
       "0       0.000000  1.276711        11.859319                 0.629086   \n",
       "1       0.000000  1.286929        11.954524                 0.628894   \n",
       "2       0.000000  1.297466        12.052679                 0.628715   \n",
       "3       0.000000  1.308460        12.155098                 0.628508   \n",
       "4       0.000000  1.319912        12.261783                 0.628282   \n",
       "..           ...       ...              ...                      ...   \n",
       "803  3695.181091  0.048234         0.479627                 0.868080   \n",
       "804  3722.339455  0.048236         0.479638                 0.867794   \n",
       "805  3795.970500  0.048236         0.479641                 0.867553   \n",
       "806  3872.980497  0.048237         0.479643                 0.867315   \n",
       "807  3949.990493  0.048238         0.479645                 0.867077   \n",
       "\n",
       "     max_gradT_div_grada  gradT_excess_alpha  min_Pgas_div_P  \\\n",
       "0               9.963203            0.000000        0.847186   \n",
       "1               9.957794            0.000000        0.847451   \n",
       "2               9.952292            0.000000        0.847729   \n",
       "3               9.946703            0.000000        0.848023   \n",
       "4               9.940932            0.000000        0.848333   \n",
       "..                   ...                 ...             ...   \n",
       "803            14.749117            0.270663        0.358631   \n",
       "804            14.750619            0.270017        0.358511   \n",
       "805            14.750984            0.269590        0.358483   \n",
       "806            14.751267            0.269180        0.358461   \n",
       "807            14.751549            0.268770        0.358439   \n",
       "\n",
       "     max_L_rad_div_Ledd     e_thermal  phase  \n",
       "0              0.176966  8.999574e+48   -1.0  \n",
       "1              0.176608  9.037575e+48   -1.0  \n",
       "2              0.176098  9.076628e+48   -1.0  \n",
       "3              0.175592  9.117274e+48   -1.0  \n",
       "4              0.175175  9.159487e+48   -1.0  \n",
       "..                  ...           ...    ...  \n",
       "803            0.672151  3.482538e+51    4.0  \n",
       "804            0.671530  3.511026e+51    4.0  \n",
       "805            0.670807  3.536179e+51    4.0  \n",
       "806            0.670077  3.561089e+51    4.0  \n",
       "807            0.669347  3.585998e+51    5.0  \n",
       "\n",
       "[808 rows x 77 columns]"
      ]
     },
     "execution_count": 14,
     "metadata": {},
     "output_type": "execute_result"
    }
   ],
   "source": [
    "mist=pd.read_table(\"/home/ariggonz/Desktop/Betelgeuse/Model_v2/MIST_v1.2_feh_p0.00_afe_p0.0_vvcrit0.0_EEPS/02000M.track.eep\", skiprows=11, sep=\"\\s+\")\n",
    "mist"
   ]
  },
  {
   "cell_type": "code",
   "execution_count": 15,
   "metadata": {},
   "outputs": [],
   "source": [
    "mass=mist[\"star_mass\"]\n",
    "age=mist[\"star_age\"]\n",
    "teff=10**mist[\"log_Teff\"]\n",
    "#l_sun=3.828e+26 #in watts\n",
    "log_L=mist[\"log_L\"] #in Lsun units already\n",
    "log_g=mist[\"log_g\"]\n",
    "R=10**mist[\"log_R\"] #in Rsun units\n",
    "log_mdot=np.log10(np.abs(mist[\"star_mdot\"]))\n",
    "log_mdot\n",
    "teff\n",
    "fig=plt.figure(figsize=(10,10))\n",
    "ax=fig.add_subplot((111))\n",
    "ax.plot(teff, log_L)\n",
    "ax.invert_xaxis()"
   ]
  },
  {
   "cell_type": "code",
   "execution_count": 16,
   "metadata": {},
   "outputs": [
    {
     "data": {
      "text/plain": [
       "(5000.0, 2000.0)"
      ]
     },
     "execution_count": 16,
     "metadata": {},
     "output_type": "execute_result"
    }
   ],
   "source": [
    "cond_teff=(2000<=teff)&(3700>=teff)\n",
    "cond_lum=(4.7<=log_L)&(6>=log_L)\n",
    "fig=plt.figure(figsize=(10,10))\n",
    "ax=fig.add_subplot((111))\n",
    "ax.plot(teff[cond_teff&cond_lum], log_L[cond_teff&cond_lum], \".\")\n",
    "ax.invert_xaxis()\n",
    "ax.set_xlim(5000,2000)\n",
    "\n"
   ]
  },
  {
   "cell_type": "code",
   "execution_count": 8,
   "metadata": {},
   "outputs": [
    {
     "name": "stdout",
     "output_type": "stream",
     "text": [
      "695    17.118392\n",
      "696    17.103448\n",
      "697    16.861907\n",
      "698    16.183044\n",
      "699    15.496882\n",
      "         ...    \n",
      "803    13.365995\n",
      "804    13.365902\n",
      "805    13.365828\n",
      "806    13.365773\n",
      "807    13.365719\n",
      "Name: star_mass, Length: 113, dtype: float64\n",
      "695    1.014999e+07\n",
      "696    1.015374e+07\n",
      "697    1.020898e+07\n",
      "698    1.035764e+07\n",
      "699    1.050005e+07\n",
      "           ...     \n",
      "803    1.088935e+07\n",
      "804    1.088936e+07\n",
      "805    1.088937e+07\n",
      "806    1.088937e+07\n",
      "807    1.088938e+07\n",
      "Name: star_age, Length: 113, dtype: float64\n",
      "695   -0.035720\n",
      "696   -0.069640\n",
      "697   -0.110573\n",
      "698   -0.154422\n",
      "699   -0.197301\n",
      "         ...   \n",
      "803   -0.481944\n",
      "804   -0.482074\n",
      "805   -0.482184\n",
      "806   -0.482273\n",
      "807   -0.482362\n",
      "Name: log_g, Length: 113, dtype: float64\n",
      "695     713.944422\n",
      "696     742.053017\n",
      "697     772.347419\n",
      "698     795.818796\n",
      "699     818.174063\n",
      "          ...     \n",
      "803    1054.498367\n",
      "804    1054.651927\n",
      "805    1054.782926\n",
      "806    1054.888845\n",
      "807    1054.994775\n",
      "Name: log_R, Length: 113, dtype: float64\n",
      "695   -5.411569\n",
      "696   -5.387503\n",
      "697   -5.353097\n",
      "698   -5.328586\n",
      "699   -5.306109\n",
      "         ...   \n",
      "803   -4.976749\n",
      "804   -4.976731\n",
      "805   -4.976726\n",
      "806   -4.976737\n",
      "807   -4.976747\n",
      "Name: star_mdot, Length: 113, dtype: float64\n",
      "695    4.932867\n",
      "696    4.940651\n",
      "697    4.955113\n",
      "698    4.965112\n",
      "699    4.974255\n",
      "         ...   \n",
      "803    5.149604\n",
      "804    5.149554\n",
      "805    5.149475\n",
      "806    5.149364\n",
      "807    5.149253\n",
      "Name: log_L, Length: 113, dtype: float64\n",
      "695    3695.925017\n",
      "696    3641.529664\n",
      "697    3599.238003\n",
      "698    3566.230423\n",
      "699    3535.733838\n",
      "          ...     \n",
      "803    3445.218017\n",
      "804    3444.867843\n",
      "805    3444.497113\n",
      "806    3444.103544\n",
      "807    3443.710020\n",
      "Name: log_Teff, Length: 113, dtype: float64\n"
     ]
    }
   ],
   "source": [
    "print(mass[cond_teff&cond_lum])\n",
    "print(age[cond_teff&cond_lum])\n",
    "print(log_g[cond_teff&cond_lum])\n",
    "print(R[cond_teff&cond_lum])\n",
    "print(log_mdot[cond_teff&cond_lum])\n",
    "print(log_L[cond_teff&cond_lum])\n",
    "print(teff[cond_teff&cond_lum])"
   ]
  },
  {
   "cell_type": "code",
   "execution_count": 17,
   "metadata": {},
   "outputs": [],
   "source": [
    "mass_rsg=mass[cond_teff&cond_lum]\n",
    "age_rsg=age[cond_teff&cond_lum]\n",
    "logg_rsg=log_g[cond_teff&cond_lum]\n",
    "r_rsg=R[cond_teff&cond_lum]\n",
    "logmdot_rsg=log_mdot[cond_teff&cond_lum]\n",
    "logL_rsg=log_L[cond_teff&cond_lum]\n",
    "teff_rsg=teff[cond_teff&cond_lum]"
   ]
  },
  {
   "cell_type": "code",
   "execution_count": 18,
   "metadata": {},
   "outputs": [
    {
     "data": {
      "text/plain": [
       "696    5.064326\n",
       "697    5.070556\n",
       "698    5.081861\n",
       "699    5.088076\n",
       "700    5.092981\n",
       "         ...   \n",
       "803    5.236761\n",
       "804    5.236473\n",
       "805    5.236286\n",
       "806    5.236106\n",
       "807    5.235927\n",
       "Name: log_L, Length: 112, dtype: float64"
      ]
     },
     "execution_count": 18,
     "metadata": {},
     "output_type": "execute_result"
    }
   ],
   "source": [
    "tol=0.01\n",
    "logL_rsg\n",
    "#np.array(age_rsg[indexes])"
   ]
  },
  {
   "cell_type": "code",
   "execution_count": 30,
   "metadata": {},
   "outputs": [
    {
     "data": {
      "text/plain": [
       "array([5.0643258 , 5.10688031, 5.20154998])"
      ]
     },
     "execution_count": 30,
     "metadata": {},
     "output_type": "execute_result"
    }
   ],
   "source": [
    "(807-597)/5\n",
    "#indexes=np.linspace(597,807,5).astype(int)\n",
    "#logL_rsg[indexes]\n",
    "indexes=[696,705,765]\n",
    "np.array(logL_rsg[indexes])"
   ]
  },
  {
   "cell_type": "code",
   "execution_count": 31,
   "metadata": {},
   "outputs": [
    {
     "data": {
      "text/plain": [
       "array([9046685.48003799, 9604929.46603566, 9618444.03792854])"
      ]
     },
     "execution_count": 31,
     "metadata": {},
     "output_type": "execute_result"
    }
   ],
   "source": [
    "np.array(age_rsg[indexes])"
   ]
  },
  {
   "cell_type": "code",
   "execution_count": 32,
   "metadata": {},
   "outputs": [
    {
     "data": {
      "text/plain": [
       "array([ 837.41898626, 1014.64092002, 1062.10382744])"
      ]
     },
     "execution_count": 32,
     "metadata": {},
     "output_type": "execute_result"
    }
   ],
   "source": [
    "np.array(r_rsg[indexes])"
   ]
  },
  {
   "cell_type": "code",
   "execution_count": 33,
   "metadata": {},
   "outputs": [
    {
     "data": {
      "text/plain": [
       "array([18.7487276 , 14.27424125, 14.12909192])"
      ]
     },
     "execution_count": 33,
     "metadata": {},
     "output_type": "execute_result"
    }
   ],
   "source": [
    "np.array(mass_rsg[indexes])"
   ]
  },
  {
   "cell_type": "code",
   "execution_count": 34,
   "metadata": {},
   "outputs": [
    {
     "data": {
      "text/plain": [
       "array([-0.13476759, -0.4199255 , -0.46407348])"
      ]
     },
     "execution_count": 34,
     "metadata": {},
     "output_type": "execute_result"
    }
   ],
   "source": [
    "np.array(logg_rsg[indexes])"
   ]
  },
  {
   "cell_type": "code",
   "execution_count": 35,
   "metadata": {},
   "outputs": [
    {
     "data": {
      "text/plain": [
       "array([3680.85428081, 3426.9081696 , 3537.06127361])"
      ]
     },
     "execution_count": 35,
     "metadata": {},
     "output_type": "execute_result"
    }
   ],
   "source": [
    "np.array(teff_rsg[indexes])"
   ]
  },
  {
   "cell_type": "code",
   "execution_count": 36,
   "metadata": {},
   "outputs": [
    {
     "data": {
      "text/plain": [
       "array([-4.70784286, -4.54102919, -4.16992409])"
      ]
     },
     "execution_count": 36,
     "metadata": {},
     "output_type": "execute_result"
    }
   ],
   "source": [
    "#add Beasor+20 relation\n",
    "a=-24.56\n",
    "erra=1.65\n",
    "b=3.92\n",
    "errb=0.35\n",
    "x=np.linspace(4.2, 5.6, 20)\n",
    "y=a+b*x\n",
    "x_study=logL_rsg[indexes]\n",
    "y_study=a+b*np.array(x_study)\n",
    "y_study"
   ]
  },
  {
   "cell_type": "code",
   "execution_count": 37,
   "metadata": {},
   "outputs": [
    {
     "name": "stdout",
     "output_type": "stream",
     "text": [
      "696   -5.175998\n",
      "705   -5.048591\n",
      "765   -4.904686\n",
      "Name: star_mdot, dtype: float64\n"
     ]
    }
   ],
   "source": [
    "print(logmdot_rsg[indexes])"
   ]
  },
  {
   "cell_type": "code",
   "execution_count": 43,
   "metadata": {},
   "outputs": [
    {
     "name": "stdout",
     "output_type": "stream",
     "text": [
      "5.064325800951137 3680.8542808109682 -0.13476758953424453\n",
      "18.748727598044493 837.4189862588112\n"
     ]
    }
   ],
   "source": [
    "# Re-escaling the MARCS model\n",
    "#for the first logL_rsg=5.06\n",
    "i=0\n",
    "print(logL_rsg[indexes[i]],teff_rsg[indexes[i]], logg_rsg[indexes[i]])\n",
    "print(mass_rsg[indexes[i]],r_rsg[indexes[i]])"
   ]
  },
  {
   "cell_type": "code",
   "execution_count": 54,
   "metadata": {},
   "outputs": [
    {
     "name": "stdout",
     "output_type": "stream",
     "text": [
      "5.345855250877509\n",
      "1143.4526376311628\n"
     ]
    },
    {
     "data": {
      "text/plain": [
       "0.52296250238966"
      ]
     },
     "execution_count": 54,
     "metadata": {},
     "output_type": "execute_result"
    }
   ],
   "source": [
    "print(np.log10(221745.72244))\n",
    "Rsun=6.957e+10\n",
    "rmodel1=7.9550E+13/Rsun\n",
    "print(rmodel1)\n",
    "#use model /home/ariggonz/Desktop/Betelgeuse/Model_v2/MARCS_MODELS/s3700_g-0.5_m15._t05_st_z+0.00_a+0.00_c+0.00_n+0.00_o+0.00_r+0.00_s+0.00.mod\n",
    "#all good, except mass is 8\n",
    "#factor=mass_rsg[indexes[i]]/15\n",
    "#print(factor)\n",
    "#factor1=factor\n",
    "#factor=10**4.705/10**4.7979\n",
    "factor1=10**logL_rsg[indexes[i]]/221745.72244\n",
    "factor1"
   ]
  },
  {
   "cell_type": "code",
   "execution_count": 55,
   "metadata": {},
   "outputs": [
    {
     "data": {
      "text/plain": [
       "826.9008829499217"
      ]
     },
     "execution_count": 55,
     "metadata": {},
     "output_type": "execute_result"
    }
   ],
   "source": [
    "rmodel1*np.sqrt(factor1)"
   ]
  },
  {
   "cell_type": "code",
   "execution_count": 56,
   "metadata": {},
   "outputs": [
    {
     "name": "stdout",
     "output_type": "stream",
     "text": [
      "7.8444375358449\n"
     ]
    },
    {
     "data": {
      "text/plain": [
       "5.064325800951137"
      ]
     },
     "execution_count": 56,
     "metadata": {},
     "output_type": "execute_result"
    }
   ],
   "source": [
    "print(15*factor1)\n",
    "np.log10(factor1*221745.72244)"
   ]
  },
  {
   "cell_type": "code",
   "execution_count": 58,
   "metadata": {},
   "outputs": [
    {
     "name": "stdout",
     "output_type": "stream",
     "text": [
      "5.106880309531438 3426.9081695989744 -0.4199254964323297\n",
      "14.274241252933024 1014.6409200192633\n",
      "---MARCS----\n",
      "5.198951865120545\n",
      "1143.4526376311628\n"
     ]
    }
   ],
   "source": [
    "##for the first logL_rsg=5.1\n",
    "i=1\n",
    "print(logL_rsg[indexes[i]],teff_rsg[indexes[i]], logg_rsg[indexes[i]])\n",
    "print(mass_rsg[indexes[i]],r_rsg[indexes[i]])\n",
    "print(\"---MARCS----\")\n",
    "print(np.log10(158107.27919))\n",
    "print(7.9550E+13/Rsun)\n",
    "rmodel2=7.9550E+13/Rsun"
   ]
  },
  {
   "cell_type": "code",
   "execution_count": 60,
   "metadata": {},
   "outputs": [
    {
     "name": "stdout",
     "output_type": "stream",
     "text": [
      "1028.448153637802\n"
     ]
    },
    {
     "data": {
      "text/plain": [
       "12.134439018414065"
      ]
     },
     "execution_count": 60,
     "metadata": {},
     "output_type": "execute_result"
    }
   ],
   "source": [
    "factor2=10**logL_rsg[indexes[i]]/158107.27919\n",
    "print(rmodel2*np.sqrt(factor2))\n",
    "15*factor2\n",
    "#use /home/ariggonz/Desktop/Betelgeuse/Model_v2/MARCS_MODELS/s3400_g-0.5_m15._t05_st_z+0.00_a+0.00_c+0.00_n+0.00_o+0.00_r+0.00_s+0.00.mod\n"
   ]
  },
  {
   "cell_type": "code",
   "execution_count": 63,
   "metadata": {},
   "outputs": [
    {
     "name": "stdout",
     "output_type": "stream",
     "text": [
      "5.201549976589977 3537.061273606701 -0.4640734798348687\n",
      "14.129091915592172 1062.1038274371283\n",
      "---MARCS----\n",
      "5.249366074854627\n",
      "1143.4526376311628\n"
     ]
    }
   ],
   "source": [
    "##for the first logL_rsg=5.2\n",
    "i=2\n",
    "print(logL_rsg[indexes[i]],teff_rsg[indexes[i]], logg_rsg[indexes[i]])\n",
    "print(mass_rsg[indexes[i]],r_rsg[indexes[i]])\n",
    "print(\"---MARCS----\")\n",
    "print(np.log10(177568.56085))\n",
    "print(7.9550E+13/Rsun)\n",
    "rmodel3=7.9550E+13/Rsun"
   ]
  },
  {
   "cell_type": "code",
   "execution_count": 64,
   "metadata": {},
   "outputs": [
    {
     "name": "stdout",
     "output_type": "stream",
     "text": [
      "1082.2064835738677\n"
     ]
    },
    {
     "data": {
      "text/plain": [
       "13.436159812534694"
      ]
     },
     "execution_count": 64,
     "metadata": {},
     "output_type": "execute_result"
    }
   ],
   "source": [
    "factor3=10**logL_rsg[indexes[i]]/177568.56085\n",
    "factor3\n",
    "print(rmodel3*np.sqrt(factor3))\n",
    "15*factor3\n",
    "#Use /home/ariggonz/Desktop/Betelgeuse/Model_v2/MARCS_MODELS/s3500_g-0.5_m15._t05_st_z+0.00_a+0.00_c+0.00_n+0.00_o+0.00_r+0.00_s+0.00.mod\n",
    "#with factor3\n",
    "#best one!\n"
   ]
  },
  {
   "cell_type": "code",
   "execution_count": 65,
   "metadata": {},
   "outputs": [],
   "source": [
    "##for the first logL_rsg=5.0\n",
    "#i=3\n",
    "#print(logL_rsg[indexes[i]],teff_rsg[indexes[i]], logg_rsg[indexes[i]])\n",
    "#print(mass_rsg[indexes[i]],r_rsg[indexes[i]])\n",
    "#print(\"---MARCS----\")\n",
    "#print(np.log10(140363.98959))\n",
    "#print(7.9550E+13/Rsun)\n",
    "#rmodel4=7.9550E+13/Rsun"
   ]
  },
  {
   "cell_type": "code",
   "execution_count": 66,
   "metadata": {},
   "outputs": [],
   "source": [
    "#factor4=10**logL_rsg[indexes[i]]/140363.98959\n",
    "#factor4\n",
    "#print(rmodel4*np.sqrt(factor4))\n",
    "#15*factor4\n",
    "#Use /home/ariggonz/Desktop/Betelgeuse/Model_v2/MARCS_MODELS/s3300_g-0.5_m15._t05_st_z+0.00_a+0.00_c+0.00_n+0.00_o+0.00_r+0.00_s+0.00.mod\n",
    "#with factor4 (mass ~10.5 so not bad)\n",
    "#the best one!"
   ]
  },
  {
   "cell_type": "code",
   "execution_count": 67,
   "metadata": {},
   "outputs": [],
   "source": [
    "##for the first logL_rsg=4.7\n",
    "#i=4\n",
    "#print(logL_rsg[indexes[i]],teff_rsg[indexes[i]], logg_rsg[indexes[i]])\n",
    "#print(mass_rsg[indexes[i]],r_rsg[indexes[i]])\n",
    "#print(\"---MARCS----\")\n",
    "#print(np.log10(2966.17588))\n",
    "#print(1.1550E+13/Rsun)\n",
    "#rmodel5=1.1550E+13/Rsun"
   ]
  },
  {
   "cell_type": "code",
   "execution_count": 68,
   "metadata": {},
   "outputs": [],
   "source": [
    "#factor5=10**logL_rsg[indexes[i]]/2966.17588\n",
    "#factor5\n",
    "#rmodel5*np.sqrt(factor5)\n",
    "#1*factor5\n",
    "#use /home/ariggonz/Desktop/Betelgeuse/Model_v2/MARCS_MODELS/s3300_g+0.0_m1.0_t05_st_z+0.00_a+0.00_c+0.00_n+0.00_o+0.00_r+0.00_s+0.00.mod\n",
    "#factor5 17 instead but the rest is good! logg=0 instead of -0.2 (won't make a difference)"
   ]
  },
  {
   "cell_type": "code",
   "execution_count": 69,
   "metadata": {},
   "outputs": [
    {
     "data": {
      "text/plain": [
       "[0.52296250238966, 0.8089626012276043, 0.8957439875023129]"
      ]
     },
     "execution_count": 69,
     "metadata": {},
     "output_type": "execute_result"
    }
   ],
   "source": [
    "factors=[factor1, factor2, factor3]\n",
    "factors"
   ]
  },
  {
   "cell_type": "code",
   "execution_count": null,
   "metadata": {},
   "outputs": [],
   "source": [
    "np.log10(158107.27919*0.6)"
   ]
  },
  {
   "cell_type": "code",
   "execution_count": null,
   "metadata": {},
   "outputs": [],
   "source": [
    "#use i=2 and i=3 for now the best ones! \n",
    "logmdot_rsg[indexes[2:4]]\n",
    "logL_rsg[indexes[2:4]]"
   ]
  },
  {
   "cell_type": "code",
   "execution_count": null,
   "metadata": {},
   "outputs": [],
   "source": [
    "y_study"
   ]
  },
  {
   "cell_type": "code",
   "execution_count": null,
   "metadata": {},
   "outputs": [],
   "source": []
  }
 ],
 "metadata": {
  "kernelspec": {
   "display_name": "Python 3",
   "language": "python",
   "name": "python3"
  },
  "language_info": {
   "codemirror_mode": {
    "name": "ipython",
    "version": 3
   },
   "file_extension": ".py",
   "mimetype": "text/x-python",
   "name": "python",
   "nbconvert_exporter": "python",
   "pygments_lexer": "ipython3",
   "version": "3.7.4"
  }
 },
 "nbformat": 4,
 "nbformat_minor": 2
}
