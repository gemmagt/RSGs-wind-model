{
 "cells": [
  {
   "cell_type": "markdown",
   "metadata": {},
   "source": [
    "# Find the MARCS scaling factor\n",
    "\n",
    "This program should not be modified!!!\n",
    "\n",
    "Here, we get the MIST evolutionary tracks for each different log L/Lsun and find the conversion factor to the initial MARCS models for \"MODEL_MARCS_WIND_FACTOR-15M_v3-grid-beta-gamma-V460-Car.ipynb\",\n",
    "\n",
    "The rest of the \"Read_MIST_tracks-rescale-MARCS-factor\" files are the same but for increasing masses and luminosities. Check the factors at the very end and the corresponding luminosities to decide the factor you want to use in your model!"
   ]
  },
  {
   "cell_type": "code",
   "execution_count": 1,
   "metadata": {},
   "outputs": [],
   "source": [
    "import numpy as np\n",
    "import pandas as pd\n",
    "import matplotlib.pyplot as plt\n",
    "%matplotlib qt"
   ]
  },
  {
   "cell_type": "code",
   "execution_count": 6,
   "metadata": {},
   "outputs": [
    {
     "data": {
      "text/html": [
       "<div>\n",
       "<style scoped>\n",
       "    .dataframe tbody tr th:only-of-type {\n",
       "        vertical-align: middle;\n",
       "    }\n",
       "\n",
       "    .dataframe tbody tr th {\n",
       "        vertical-align: top;\n",
       "    }\n",
       "\n",
       "    .dataframe thead th {\n",
       "        text-align: right;\n",
       "    }\n",
       "</style>\n",
       "<table border=\"1\" class=\"dataframe\">\n",
       "  <thead>\n",
       "    <tr style=\"text-align: right;\">\n",
       "      <th></th>\n",
       "      <th>star_age</th>\n",
       "      <th>star_mass</th>\n",
       "      <th>star_mdot</th>\n",
       "      <th>he_core_mass</th>\n",
       "      <th>c_core_mass</th>\n",
       "      <th>o_core_mass</th>\n",
       "      <th>log_L</th>\n",
       "      <th>log_L_div_Ledd</th>\n",
       "      <th>log_LH</th>\n",
       "      <th>log_LHe</th>\n",
       "      <th>...</th>\n",
       "      <th>delta_Pg</th>\n",
       "      <th>nu_max</th>\n",
       "      <th>acoustic_cutoff</th>\n",
       "      <th>max_conv_vel_div_csound</th>\n",
       "      <th>max_gradT_div_grada</th>\n",
       "      <th>gradT_excess_alpha</th>\n",
       "      <th>min_Pgas_div_P</th>\n",
       "      <th>max_L_rad_div_Ledd</th>\n",
       "      <th>e_thermal</th>\n",
       "      <th>phase</th>\n",
       "    </tr>\n",
       "  </thead>\n",
       "  <tbody>\n",
       "    <tr>\n",
       "      <td>0</td>\n",
       "      <td>1.853554e+02</td>\n",
       "      <td>14.999986</td>\n",
       "      <td>-6.316411e-08</td>\n",
       "      <td>0.000000</td>\n",
       "      <td>0.000000</td>\n",
       "      <td>0.0</td>\n",
       "      <td>3.957869</td>\n",
       "      <td>-3.083298</td>\n",
       "      <td>-6.221373</td>\n",
       "      <td>-99.000000</td>\n",
       "      <td>...</td>\n",
       "      <td>0.000000</td>\n",
       "      <td>1.501355</td>\n",
       "      <td>13.938449</td>\n",
       "      <td>0.610094</td>\n",
       "      <td>9.267691</td>\n",
       "      <td>0.0</td>\n",
       "      <td>0.886215</td>\n",
       "      <td>0.142995</td>\n",
       "      <td>5.261883e+48</td>\n",
       "      <td>-1.0</td>\n",
       "    </tr>\n",
       "    <tr>\n",
       "      <td>1</td>\n",
       "      <td>1.926744e+02</td>\n",
       "      <td>14.999986</td>\n",
       "      <td>-6.249649e-08</td>\n",
       "      <td>0.000000</td>\n",
       "      <td>0.000000</td>\n",
       "      <td>0.0</td>\n",
       "      <td>3.955274</td>\n",
       "      <td>-3.085063</td>\n",
       "      <td>-6.188871</td>\n",
       "      <td>-99.000000</td>\n",
       "      <td>...</td>\n",
       "      <td>0.000000</td>\n",
       "      <td>1.513398</td>\n",
       "      <td>14.050628</td>\n",
       "      <td>0.609782</td>\n",
       "      <td>9.262405</td>\n",
       "      <td>0.0</td>\n",
       "      <td>0.886262</td>\n",
       "      <td>0.142732</td>\n",
       "      <td>5.283740e+48</td>\n",
       "      <td>-1.0</td>\n",
       "    </tr>\n",
       "    <tr>\n",
       "      <td>2</td>\n",
       "      <td>2.002670e+02</td>\n",
       "      <td>14.999985</td>\n",
       "      <td>-6.179614e-08</td>\n",
       "      <td>0.000000</td>\n",
       "      <td>0.000000</td>\n",
       "      <td>0.0</td>\n",
       "      <td>3.952534</td>\n",
       "      <td>-3.085546</td>\n",
       "      <td>-6.154490</td>\n",
       "      <td>-99.000000</td>\n",
       "      <td>...</td>\n",
       "      <td>0.000000</td>\n",
       "      <td>1.526252</td>\n",
       "      <td>14.170359</td>\n",
       "      <td>0.609443</td>\n",
       "      <td>9.256936</td>\n",
       "      <td>0.0</td>\n",
       "      <td>0.886325</td>\n",
       "      <td>0.142251</td>\n",
       "      <td>5.306994e+48</td>\n",
       "      <td>-1.0</td>\n",
       "    </tr>\n",
       "    <tr>\n",
       "      <td>3</td>\n",
       "      <td>2.081393e+02</td>\n",
       "      <td>14.999985</td>\n",
       "      <td>-6.104950e-08</td>\n",
       "      <td>0.000000</td>\n",
       "      <td>0.000000</td>\n",
       "      <td>0.0</td>\n",
       "      <td>3.949763</td>\n",
       "      <td>-3.086235</td>\n",
       "      <td>-6.119706</td>\n",
       "      <td>-99.000000</td>\n",
       "      <td>...</td>\n",
       "      <td>0.000000</td>\n",
       "      <td>1.539386</td>\n",
       "      <td>14.292703</td>\n",
       "      <td>0.609196</td>\n",
       "      <td>9.251372</td>\n",
       "      <td>0.0</td>\n",
       "      <td>0.886392</td>\n",
       "      <td>0.141862</td>\n",
       "      <td>5.330656e+48</td>\n",
       "      <td>-1.0</td>\n",
       "    </tr>\n",
       "    <tr>\n",
       "      <td>4</td>\n",
       "      <td>2.163092e+02</td>\n",
       "      <td>14.999984</td>\n",
       "      <td>-6.027932e-08</td>\n",
       "      <td>0.000000</td>\n",
       "      <td>0.000000</td>\n",
       "      <td>0.0</td>\n",
       "      <td>3.946964</td>\n",
       "      <td>-3.087377</td>\n",
       "      <td>-6.084641</td>\n",
       "      <td>-99.000000</td>\n",
       "      <td>...</td>\n",
       "      <td>0.000000</td>\n",
       "      <td>1.552765</td>\n",
       "      <td>14.417334</td>\n",
       "      <td>0.609004</td>\n",
       "      <td>9.245679</td>\n",
       "      <td>0.0</td>\n",
       "      <td>0.886462</td>\n",
       "      <td>0.141574</td>\n",
       "      <td>5.354653e+48</td>\n",
       "      <td>-1.0</td>\n",
       "    </tr>\n",
       "    <tr>\n",
       "      <td>...</td>\n",
       "      <td>...</td>\n",
       "      <td>...</td>\n",
       "      <td>...</td>\n",
       "      <td>...</td>\n",
       "      <td>...</td>\n",
       "      <td>...</td>\n",
       "      <td>...</td>\n",
       "      <td>...</td>\n",
       "      <td>...</td>\n",
       "      <td>...</td>\n",
       "      <td>...</td>\n",
       "      <td>...</td>\n",
       "      <td>...</td>\n",
       "      <td>...</td>\n",
       "      <td>...</td>\n",
       "      <td>...</td>\n",
       "      <td>...</td>\n",
       "      <td>...</td>\n",
       "      <td>...</td>\n",
       "      <td>...</td>\n",
       "      <td>...</td>\n",
       "    </tr>\n",
       "    <tr>\n",
       "      <td>803</td>\n",
       "      <td>1.382269e+07</td>\n",
       "      <td>11.868962</td>\n",
       "      <td>-5.902545e-06</td>\n",
       "      <td>4.599967</td>\n",
       "      <td>2.718165</td>\n",
       "      <td>0.0</td>\n",
       "      <td>4.992390</td>\n",
       "      <td>-2.710131</td>\n",
       "      <td>4.950176</td>\n",
       "      <td>4.741351</td>\n",
       "      <td>...</td>\n",
       "      <td>74.262633</td>\n",
       "      <td>0.054048</td>\n",
       "      <td>0.503318</td>\n",
       "      <td>0.761591</td>\n",
       "      <td>13.433111</td>\n",
       "      <td>0.0</td>\n",
       "      <td>0.410461</td>\n",
       "      <td>0.686066</td>\n",
       "      <td>1.398471e+51</td>\n",
       "      <td>4.0</td>\n",
       "    </tr>\n",
       "    <tr>\n",
       "      <td>804</td>\n",
       "      <td>1.382271e+07</td>\n",
       "      <td>11.868845</td>\n",
       "      <td>-5.912302e-06</td>\n",
       "      <td>4.599967</td>\n",
       "      <td>2.719004</td>\n",
       "      <td>0.0</td>\n",
       "      <td>4.992782</td>\n",
       "      <td>-2.710153</td>\n",
       "      <td>4.895628</td>\n",
       "      <td>4.777685</td>\n",
       "      <td>...</td>\n",
       "      <td>70.991364</td>\n",
       "      <td>0.053983</td>\n",
       "      <td>0.502696</td>\n",
       "      <td>0.742714</td>\n",
       "      <td>13.433761</td>\n",
       "      <td>0.0</td>\n",
       "      <td>0.410458</td>\n",
       "      <td>0.686768</td>\n",
       "      <td>1.409324e+51</td>\n",
       "      <td>4.0</td>\n",
       "    </tr>\n",
       "    <tr>\n",
       "      <td>805</td>\n",
       "      <td>1.382273e+07</td>\n",
       "      <td>11.868747</td>\n",
       "      <td>-5.920969e-06</td>\n",
       "      <td>4.599967</td>\n",
       "      <td>2.719817</td>\n",
       "      <td>0.0</td>\n",
       "      <td>4.993113</td>\n",
       "      <td>-2.710115</td>\n",
       "      <td>4.841431</td>\n",
       "      <td>4.812931</td>\n",
       "      <td>...</td>\n",
       "      <td>67.775536</td>\n",
       "      <td>0.053928</td>\n",
       "      <td>0.502169</td>\n",
       "      <td>0.742718</td>\n",
       "      <td>13.434493</td>\n",
       "      <td>0.0</td>\n",
       "      <td>0.410375</td>\n",
       "      <td>0.687402</td>\n",
       "      <td>1.419931e+51</td>\n",
       "      <td>4.0</td>\n",
       "    </tr>\n",
       "    <tr>\n",
       "      <td>806</td>\n",
       "      <td>1.382274e+07</td>\n",
       "      <td>11.868679</td>\n",
       "      <td>-5.927970e-06</td>\n",
       "      <td>4.599967</td>\n",
       "      <td>2.720965</td>\n",
       "      <td>0.0</td>\n",
       "      <td>4.993329</td>\n",
       "      <td>-2.709953</td>\n",
       "      <td>4.789065</td>\n",
       "      <td>4.846167</td>\n",
       "      <td>...</td>\n",
       "      <td>64.674973</td>\n",
       "      <td>0.053892</td>\n",
       "      <td>0.501825</td>\n",
       "      <td>0.742676</td>\n",
       "      <td>13.435394</td>\n",
       "      <td>0.0</td>\n",
       "      <td>0.410047</td>\n",
       "      <td>0.688018</td>\n",
       "      <td>1.430079e+51</td>\n",
       "      <td>4.0</td>\n",
       "    </tr>\n",
       "    <tr>\n",
       "      <td>807</td>\n",
       "      <td>1.382275e+07</td>\n",
       "      <td>11.868612</td>\n",
       "      <td>-5.934971e-06</td>\n",
       "      <td>4.599967</td>\n",
       "      <td>2.722113</td>\n",
       "      <td>0.0</td>\n",
       "      <td>4.993544</td>\n",
       "      <td>-2.709790</td>\n",
       "      <td>4.736698</td>\n",
       "      <td>4.879402</td>\n",
       "      <td>...</td>\n",
       "      <td>61.574410</td>\n",
       "      <td>0.053856</td>\n",
       "      <td>0.501482</td>\n",
       "      <td>0.742634</td>\n",
       "      <td>13.436296</td>\n",
       "      <td>0.0</td>\n",
       "      <td>0.409720</td>\n",
       "      <td>0.688635</td>\n",
       "      <td>1.440226e+51</td>\n",
       "      <td>5.0</td>\n",
       "    </tr>\n",
       "  </tbody>\n",
       "</table>\n",
       "<p>808 rows × 77 columns</p>\n",
       "</div>"
      ],
      "text/plain": [
       "         star_age  star_mass     star_mdot  he_core_mass  c_core_mass  \\\n",
       "0    1.853554e+02  14.999986 -6.316411e-08      0.000000     0.000000   \n",
       "1    1.926744e+02  14.999986 -6.249649e-08      0.000000     0.000000   \n",
       "2    2.002670e+02  14.999985 -6.179614e-08      0.000000     0.000000   \n",
       "3    2.081393e+02  14.999985 -6.104950e-08      0.000000     0.000000   \n",
       "4    2.163092e+02  14.999984 -6.027932e-08      0.000000     0.000000   \n",
       "..            ...        ...           ...           ...          ...   \n",
       "803  1.382269e+07  11.868962 -5.902545e-06      4.599967     2.718165   \n",
       "804  1.382271e+07  11.868845 -5.912302e-06      4.599967     2.719004   \n",
       "805  1.382273e+07  11.868747 -5.920969e-06      4.599967     2.719817   \n",
       "806  1.382274e+07  11.868679 -5.927970e-06      4.599967     2.720965   \n",
       "807  1.382275e+07  11.868612 -5.934971e-06      4.599967     2.722113   \n",
       "\n",
       "     o_core_mass     log_L  log_L_div_Ledd    log_LH    log_LHe  ...  \\\n",
       "0            0.0  3.957869       -3.083298 -6.221373 -99.000000  ...   \n",
       "1            0.0  3.955274       -3.085063 -6.188871 -99.000000  ...   \n",
       "2            0.0  3.952534       -3.085546 -6.154490 -99.000000  ...   \n",
       "3            0.0  3.949763       -3.086235 -6.119706 -99.000000  ...   \n",
       "4            0.0  3.946964       -3.087377 -6.084641 -99.000000  ...   \n",
       "..           ...       ...             ...       ...        ...  ...   \n",
       "803          0.0  4.992390       -2.710131  4.950176   4.741351  ...   \n",
       "804          0.0  4.992782       -2.710153  4.895628   4.777685  ...   \n",
       "805          0.0  4.993113       -2.710115  4.841431   4.812931  ...   \n",
       "806          0.0  4.993329       -2.709953  4.789065   4.846167  ...   \n",
       "807          0.0  4.993544       -2.709790  4.736698   4.879402  ...   \n",
       "\n",
       "      delta_Pg    nu_max  acoustic_cutoff  max_conv_vel_div_csound  \\\n",
       "0     0.000000  1.501355        13.938449                 0.610094   \n",
       "1     0.000000  1.513398        14.050628                 0.609782   \n",
       "2     0.000000  1.526252        14.170359                 0.609443   \n",
       "3     0.000000  1.539386        14.292703                 0.609196   \n",
       "4     0.000000  1.552765        14.417334                 0.609004   \n",
       "..         ...       ...              ...                      ...   \n",
       "803  74.262633  0.054048         0.503318                 0.761591   \n",
       "804  70.991364  0.053983         0.502696                 0.742714   \n",
       "805  67.775536  0.053928         0.502169                 0.742718   \n",
       "806  64.674973  0.053892         0.501825                 0.742676   \n",
       "807  61.574410  0.053856         0.501482                 0.742634   \n",
       "\n",
       "     max_gradT_div_grada  gradT_excess_alpha  min_Pgas_div_P  \\\n",
       "0               9.267691                 0.0        0.886215   \n",
       "1               9.262405                 0.0        0.886262   \n",
       "2               9.256936                 0.0        0.886325   \n",
       "3               9.251372                 0.0        0.886392   \n",
       "4               9.245679                 0.0        0.886462   \n",
       "..                   ...                 ...             ...   \n",
       "803            13.433111                 0.0        0.410461   \n",
       "804            13.433761                 0.0        0.410458   \n",
       "805            13.434493                 0.0        0.410375   \n",
       "806            13.435394                 0.0        0.410047   \n",
       "807            13.436296                 0.0        0.409720   \n",
       "\n",
       "     max_L_rad_div_Ledd     e_thermal  phase  \n",
       "0              0.142995  5.261883e+48   -1.0  \n",
       "1              0.142732  5.283740e+48   -1.0  \n",
       "2              0.142251  5.306994e+48   -1.0  \n",
       "3              0.141862  5.330656e+48   -1.0  \n",
       "4              0.141574  5.354653e+48   -1.0  \n",
       "..                  ...           ...    ...  \n",
       "803            0.686066  1.398471e+51    4.0  \n",
       "804            0.686768  1.409324e+51    4.0  \n",
       "805            0.687402  1.419931e+51    4.0  \n",
       "806            0.688018  1.430079e+51    4.0  \n",
       "807            0.688635  1.440226e+51    5.0  \n",
       "\n",
       "[808 rows x 77 columns]"
      ]
     },
     "execution_count": 6,
     "metadata": {},
     "output_type": "execute_result"
    }
   ],
   "source": [
    "mist=pd.read_table(\"/home/ariggonz/Desktop/Betelgeuse/Model_v2/MIST_v1.2_feh_p0.00_afe_p0.0_vvcrit0.0_EEPS/01500M.track.eep\", skiprows=11, sep=\"\\s+\")\n",
    "mist"
   ]
  },
  {
   "cell_type": "code",
   "execution_count": 7,
   "metadata": {},
   "outputs": [
    {
     "data": {
      "image/png": "[encoded data removed]",
      "text/plain": [
       "<Figure size 720x720 with 1 Axes>"
      ]
     },
     "metadata": {
      "needs_background": "light"
     },
     "output_type": "display_data"
    }
   ],
   "source": [
    "mass=mist[\"star_mass\"]\n",
    "age=mist[\"star_age\"]\n",
    "teff=10**mist[\"log_Teff\"]\n",
    "#l_sun=3.828e+26 #in watts\n",
    "log_L=mist[\"log_L\"] #in Lsun units already\n",
    "log_g=mist[\"log_g\"]\n",
    "R=10**mist[\"log_R\"] #in Rsun units\n",
    "log_mdot=np.log10(np.abs(mist[\"star_mdot\"]))\n",
    "log_mdot\n",
    "teff\n",
    "fig=plt.figure(figsize=(10,10))\n",
    "ax=fig.add_subplot((111))\n",
    "ax.plot(teff, log_L)\n",
    "ax.invert_xaxis()"
   ]
  },
  {
   "cell_type": "code",
   "execution_count": 11,
   "metadata": {},
   "outputs": [
    {
     "data": {
      "text/plain": [
       "(5000.0, 2000.0)"
      ]
     },
     "execution_count": 11,
     "metadata": {},
     "output_type": "execute_result"
    },
    {
     "data": {
      "image/png": "[encoded data removed]",
      "text/plain": [
       "<Figure size 720x720 with 1 Axes>"
      ]
     },
     "metadata": {
      "needs_background": "light"
     },
     "output_type": "display_data"
    }
   ],
   "source": [
    "cond_teff=(2000<=teff)&(4000>=teff)\n",
    "cond_lum=(4.7<=log_L)&(6>=log_L)\n",
    "fig=plt.figure(figsize=(10,10))\n",
    "ax=fig.add_subplot((111))\n",
    "ax.plot(teff[cond_teff&cond_lum], log_L[cond_teff&cond_lum], \".\")\n",
    "ax.invert_xaxis()\n",
    "ax.set_xlim(5000,2000)\n",
    "\n"
   ]
  },
  {
   "cell_type": "code",
   "execution_count": 12,
   "metadata": {},
   "outputs": [
    {
     "name": "stdout",
     "output_type": "stream",
     "text": [
      "632    14.574753\n",
      "633    14.533496\n",
      "634    14.489948\n",
      "635    14.445058\n",
      "636    14.399126\n",
      "         ...    \n",
      "803    11.868962\n",
      "804    11.868845\n",
      "805    11.868747\n",
      "806    11.868679\n",
      "807    11.868612\n",
      "Name: star_mass, Length: 176, dtype: float64\n",
      "632    1.256496e+07\n",
      "633    1.259131e+07\n",
      "634    1.261874e+07\n",
      "635    1.264662e+07\n",
      "636    1.267476e+07\n",
      "           ...     \n",
      "803    1.382269e+07\n",
      "804    1.382271e+07\n",
      "805    1.382273e+07\n",
      "806    1.382274e+07\n",
      "807    1.382275e+07\n",
      "Name: star_age, Length: 176, dtype: float64\n",
      "632    0.097277\n",
      "633    0.091124\n",
      "634    0.085029\n",
      "635    0.078933\n",
      "636    0.072816\n",
      "         ...   \n",
      "803   -0.440731\n",
      "804   -0.441273\n",
      "805   -0.441732\n",
      "806   -0.442031\n",
      "807   -0.442331\n",
      "Name: log_g, Length: 176, dtype: float64\n",
      "632    565.243309\n",
      "633    568.455301\n",
      "634    571.599715\n",
      "635    574.732985\n",
      "636    577.873901\n",
      "          ...    \n",
      "803    947.643472\n",
      "804    948.230496\n",
      "805    948.727616\n",
      "806    949.052039\n",
      "807    949.376573\n",
      "Name: log_R, Length: 176, dtype: float64\n",
      "632   -5.809014\n",
      "633   -5.803048\n",
      "634   -5.796981\n",
      "635   -5.790916\n",
      "636   -5.784897\n",
      "         ...   \n",
      "803   -5.228961\n",
      "804   -5.228243\n",
      "805   -5.227607\n",
      "806   -5.227094\n",
      "807   -5.226581\n",
      "Name: star_mdot, Length: 176, dtype: float64\n",
      "632    4.702127\n",
      "633    4.705166\n",
      "634    4.708191\n",
      "635    4.711191\n",
      "636    4.714169\n",
      "         ...   \n",
      "803    4.992390\n",
      "804    4.992782\n",
      "805    4.993113\n",
      "806    4.993329\n",
      "807    4.993544\n",
      "Name: log_L, Length: 176, dtype: float64\n",
      "632    3637.078044\n",
      "633    3633.138675\n",
      "634    3629.445344\n",
      "635    3625.795038\n",
      "636    3622.131768\n",
      "          ...     \n",
      "803    3319.813521\n",
      "804    3319.533583\n",
      "805    3319.296494\n",
      "806    3319.141077\n",
      "807    3318.985667\n",
      "Name: log_Teff, Length: 176, dtype: float64\n"
     ]
    }
   ],
   "source": [
    "print(mass[cond_teff&cond_lum])\n",
    "print(age[cond_teff&cond_lum])\n",
    "print(log_g[cond_teff&cond_lum])\n",
    "print(R[cond_teff&cond_lum])\n",
    "print(log_mdot[cond_teff&cond_lum])\n",
    "print(log_L[cond_teff&cond_lum])\n",
    "print(teff[cond_teff&cond_lum])"
   ]
  },
  {
   "cell_type": "code",
   "execution_count": 13,
   "metadata": {},
   "outputs": [],
   "source": [
    "mass_rsg=mass[cond_teff&cond_lum]\n",
    "age_rsg=age[cond_teff&cond_lum]\n",
    "logg_rsg=log_g[cond_teff&cond_lum]\n",
    "r_rsg=R[cond_teff&cond_lum]\n",
    "logmdot_rsg=log_mdot[cond_teff&cond_lum]\n",
    "logL_rsg=log_L[cond_teff&cond_lum]\n",
    "teff_rsg=teff[cond_teff&cond_lum]"
   ]
  },
  {
   "cell_type": "code",
   "execution_count": 63,
   "metadata": {},
   "outputs": [
    {
     "data": {
      "text/plain": [
       "632    4.702127\n",
       "633    4.705166\n",
       "634    4.708191\n",
       "635    4.711191\n",
       "636    4.714169\n",
       "         ...   \n",
       "803    4.992390\n",
       "804    4.992782\n",
       "805    4.993113\n",
       "806    4.993329\n",
       "807    4.993544\n",
       "Name: log_L, Length: 176, dtype: float64"
      ]
     },
     "execution_count": 63,
     "metadata": {},
     "output_type": "execute_result"
    }
   ],
   "source": [
    "tol=0.01\n",
    "logL_rsg\n",
    "#np.array(age_rsg[indexes])"
   ]
  },
  {
   "cell_type": "code",
   "execution_count": 24,
   "metadata": {},
   "outputs": [
    {
     "data": {
      "text/plain": [
       "array([4.70516624, 4.80652529, 4.90345473, 4.99311297])"
      ]
     },
     "execution_count": 24,
     "metadata": {},
     "output_type": "execute_result"
    }
   ],
   "source": [
    "(807-597)/5\n",
    "#indexes=np.linspace(597,807,5).astype(int)\n",
    "#logL_rsg[indexes]\n",
    "indexes=[633,672,750,805]\n",
    "np.array(logL_rsg[indexes])"
   ]
  },
  {
   "cell_type": "code",
   "execution_count": 62,
   "metadata": {},
   "outputs": [
    {
     "data": {
      "text/plain": [
       "array([12591306.68345879, 13630182.19056273, 13813718.30228533,\n",
       "       13822730.87046227])"
      ]
     },
     "execution_count": 62,
     "metadata": {},
     "output_type": "execute_result"
    }
   ],
   "source": [
    "np.array(age_rsg[indexes])"
   ]
  },
  {
   "cell_type": "code",
   "execution_count": 25,
   "metadata": {},
   "outputs": [
    {
     "data": {
      "text/plain": [
       "array([568.45530088, 692.54466684, 821.64627623, 948.72761639])"
      ]
     },
     "execution_count": 25,
     "metadata": {},
     "output_type": "execute_result"
    }
   ],
   "source": [
    "np.array(r_rsg[indexes])"
   ]
  },
  {
   "cell_type": "code",
   "execution_count": 26,
   "metadata": {},
   "outputs": [
    {
     "data": {
      "text/plain": [
       "array([14.53349611, 12.44526621, 11.91452508, 11.86874716])"
      ]
     },
     "execution_count": 26,
     "metadata": {},
     "output_type": "execute_result"
    }
   ],
   "source": [
    "np.array(mass_rsg[indexes])"
   ]
  },
  {
   "cell_type": "code",
   "execution_count": 27,
   "metadata": {},
   "outputs": [
    {
     "data": {
      "text/plain": [
       "array([ 0.09112365, -0.14774519, -0.31514683, -0.44173199])"
      ]
     },
     "execution_count": 27,
     "metadata": {},
     "output_type": "execute_result"
    }
   ],
   "source": [
    "np.array(logg_rsg[indexes])"
   ]
  },
  {
   "cell_type": "code",
   "execution_count": 28,
   "metadata": {},
   "outputs": [
    {
     "data": {
      "text/plain": [
       "array([3633.13867524, 3489.36180388, 3387.34797787, 3319.29649395])"
      ]
     },
     "execution_count": 28,
     "metadata": {},
     "output_type": "execute_result"
    }
   ],
   "source": [
    "np.array(teff_rsg[indexes])"
   ]
  },
  {
   "cell_type": "code",
   "execution_count": 29,
   "metadata": {},
   "outputs": [
    {
     "data": {
      "text/plain": [
       "array([-6.11574835, -5.71842088, -5.33845745, -4.98699716])"
      ]
     },
     "execution_count": 29,
     "metadata": {},
     "output_type": "execute_result"
    }
   ],
   "source": [
    "#add Beasor+20 relation\n",
    "a=-24.56\n",
    "erra=1.65\n",
    "b=3.92\n",
    "errb=0.35\n",
    "x=np.linspace(4.2, 5.6, 20)\n",
    "y=a+b*x\n",
    "x_study=logL_rsg[indexes]\n",
    "y_study=a+b*np.array(x_study)\n",
    "y_study"
   ]
  },
  {
   "cell_type": "code",
   "execution_count": 30,
   "metadata": {},
   "outputs": [
    {
     "name": "stdout",
     "output_type": "stream",
     "text": [
      "633   -5.803048\n",
      "672   -5.593788\n",
      "750   -5.400405\n",
      "805   -5.227607\n",
      "Name: star_mdot, dtype: float64\n"
     ]
    }
   ],
   "source": [
    "print(logmdot_rsg[indexes])"
   ]
  },
  {
   "cell_type": "code",
   "execution_count": 31,
   "metadata": {},
   "outputs": [
    {
     "name": "stdout",
     "output_type": "stream",
     "text": [
      "4.705166236955307 3633.138675236071 0.09112364817887976\n",
      "14.533496109366665 568.4553008782694\n"
     ]
    }
   ],
   "source": [
    "# Re-escaling the MARCS model\n",
    "#for the first logL_rsg=4.7\n",
    "i=0\n",
    "print(logL_rsg[indexes[i]],teff_rsg[indexes[i]], logg_rsg[indexes[i]])\n",
    "print(mass_rsg[indexes[i]],r_rsg[indexes[i]])"
   ]
  },
  {
   "cell_type": "code",
   "execution_count": 40,
   "metadata": {},
   "outputs": [
    {
     "name": "stdout",
     "output_type": "stream",
     "text": [
      "4.797977852188964\n",
      "643.0070432657755\n",
      "0.8074209243845891\n"
     ]
    }
   ],
   "source": [
    "print(np.log10(62802.63304))\n",
    "Rsun=6.957e+10\n",
    "rmodel1=4.4734E+13/Rsun\n",
    "print(rmodel1)\n",
    "#use model /home/ariggonz/Desktop/Betelgeuse/Model_v2/MARCS_MODELS/s3600_g+0.0_m15._t05_st_z+0.00_a+0.00_c+0.00_n+0.00_o+0.00_r+0.00_s+0.00.mod\n",
    "#all good, except mass is 12 instead of 14\n",
    "#factor=mass_rsg[indexes[i]]/15\n",
    "print(factor)\n",
    "#factor1=factor\n",
    "factor=10**4.705/10**4.7979\n",
    "factor1=factor"
   ]
  },
  {
   "cell_type": "code",
   "execution_count": 41,
   "metadata": {},
   "outputs": [
    {
     "data": {
      "text/plain": [
       "577.7842911795266"
      ]
     },
     "execution_count": 41,
     "metadata": {},
     "output_type": "execute_result"
    }
   ],
   "source": [
    "rmodel1*np.sqrt(factor1)"
   ]
  },
  {
   "cell_type": "code",
   "execution_count": 42,
   "metadata": {},
   "outputs": [
    {
     "name": "stdout",
     "output_type": "stream",
     "text": [
      "12.111313865768837\n"
     ]
    },
    {
     "data": {
      "text/plain": [
       "4.7050778"
      ]
     },
     "execution_count": 42,
     "metadata": {},
     "output_type": "execute_result"
    }
   ],
   "source": [
    "print(15*factor1)\n",
    "np.log10(factor1*10**4.7979778)"
   ]
  },
  {
   "cell_type": "code",
   "execution_count": 48,
   "metadata": {},
   "outputs": [
    {
     "name": "stdout",
     "output_type": "stream",
     "text": [
      "4.806525285140973 3489.3618038788727 -0.1477451879056268\n",
      "12.445266211332235 692.5446668448194\n",
      "---MARCS----\n",
      "4.749026407050079\n",
      "643.0070432657755\n"
     ]
    }
   ],
   "source": [
    "##for the first logL_rsg=4.8\n",
    "i=1\n",
    "print(logL_rsg[indexes[i]],teff_rsg[indexes[i]], logg_rsg[indexes[i]])\n",
    "print(mass_rsg[indexes[i]],r_rsg[indexes[i]])\n",
    "print(\"---MARCS----\")\n",
    "print(np.log10( 56108.20913))\n",
    "print(4.4734E+13/Rsun)\n",
    "rmodel2=4.4734E+13/Rsun"
   ]
  },
  {
   "cell_type": "code",
   "execution_count": 49,
   "metadata": {},
   "outputs": [
    {
     "data": {
      "text/plain": [
       "16.830276814529444"
      ]
     },
     "execution_count": 49,
     "metadata": {},
     "output_type": "execute_result"
    }
   ],
   "source": [
    "factor2=10**4.8/10**4.75\n",
    "rmodel2*np.sqrt(factor2)\n",
    "15*factor2\n",
    "#use /home/ariggonz/Desktop/Betelgeuse/Model_v2/MARCS_MODELS/s3500_g+0.0_m15._t05_st_z+0.00_a+0.00_c+0.00_n+0.00_o+0.00_r+0.00_s+0.00.mod\n",
    "#factor2 will increase the mass from 12 to 17! Maybe use the other relation in Beasor+20"
   ]
  },
  {
   "cell_type": "code",
   "execution_count": 51,
   "metadata": {},
   "outputs": [
    {
     "name": "stdout",
     "output_type": "stream",
     "text": [
      "4.903454732083592 3387.3479778659416 -0.31514682947052763\n",
      "11.914525075793351 821.6462762340715\n",
      "---MARCS----\n",
      "5.198951865120545\n",
      "1143.4526376311628\n"
     ]
    }
   ],
   "source": [
    "##for the first logL_rsg=4.9\n",
    "i=2\n",
    "print(logL_rsg[indexes[i]],teff_rsg[indexes[i]], logg_rsg[indexes[i]])\n",
    "print(mass_rsg[indexes[i]],r_rsg[indexes[i]])\n",
    "print(\"---MARCS----\")\n",
    "print(np.log10(158107.27919))\n",
    "print(7.9550E+13/Rsun)\n",
    "rmodel3=7.9550E+13/Rsun"
   ]
  },
  {
   "cell_type": "code",
   "execution_count": 55,
   "metadata": {},
   "outputs": [
    {
     "name": "stdout",
     "output_type": "stream",
     "text": [
      "813.7099266725298\n"
     ]
    },
    {
     "data": {
      "text/plain": [
       "7.596160388185779"
      ]
     },
     "execution_count": 55,
     "metadata": {},
     "output_type": "execute_result"
    }
   ],
   "source": [
    "factor3=10**logL_rsg[indexes[i]]/158107.27919\n",
    "factor3\n",
    "print(rmodel3*np.sqrt(factor3))\n",
    "15*factor3\n",
    "#Use /home/ariggonz/Desktop/Betelgeuse/Model_v2/MARCS_MODELS/s3400_g-0.5_m15._t05_st_z+0.00_a+0.00_c+0.00_n+0.00_o+0.00_r+0.00_s+0.00.mod\n",
    "#with factor3 (mass ~7.6 so not bad)\n"
   ]
  },
  {
   "cell_type": "code",
   "execution_count": 57,
   "metadata": {},
   "outputs": [
    {
     "name": "stdout",
     "output_type": "stream",
     "text": [
      "4.993112969634926 3319.296493951026 -0.4417319895806419\n",
      "11.868747156560786 948.7276163874833\n",
      "---MARCS----\n",
      "5.147255703746119\n",
      "1143.4526376311628\n"
     ]
    }
   ],
   "source": [
    "##for the first logL_rsg=5.0\n",
    "i=3\n",
    "print(logL_rsg[indexes[i]],teff_rsg[indexes[i]], logg_rsg[indexes[i]])\n",
    "print(mass_rsg[indexes[i]],r_rsg[indexes[i]])\n",
    "print(\"---MARCS----\")\n",
    "print(np.log10(140363.98959))\n",
    "print(7.9550E+13/Rsun)\n",
    "rmodel4=7.9550E+13/Rsun"
   ]
  },
  {
   "cell_type": "code",
   "execution_count": 59,
   "metadata": {},
   "outputs": [
    {
     "name": "stdout",
     "output_type": "stream",
     "text": [
      "957.5177061547936\n"
     ]
    },
    {
     "data": {
      "text/plain": [
       "10.518371966993753"
      ]
     },
     "execution_count": 59,
     "metadata": {},
     "output_type": "execute_result"
    }
   ],
   "source": [
    "factor4=10**logL_rsg[indexes[i]]/140363.98959\n",
    "factor4\n",
    "print(rmodel4*np.sqrt(factor4))\n",
    "15*factor4\n",
    "#Use /home/ariggonz/Desktop/Betelgeuse/Model_v2/MARCS_MODELS/s3300_g-0.5_m15._t05_st_z+0.00_a+0.00_c+0.00_n+0.00_o+0.00_r+0.00_s+0.00.mod\n",
    "#with factor4 (mass ~10.5 so not bad)\n",
    "#the best one!"
   ]
  },
  {
   "cell_type": "code",
   "execution_count": null,
   "metadata": {},
   "outputs": [],
   "source": [
    "##for the first logL_rsg=4.7\n",
    "#i=4\n",
    "#print(logL_rsg[indexes[i]],teff_rsg[indexes[i]], logg_rsg[indexes[i]])\n",
    "#print(mass_rsg[indexes[i]],r_rsg[indexes[i]])\n",
    "#print(\"---MARCS----\")\n",
    "#print(np.log10(2966.17588))\n",
    "#print(1.1550E+13/Rsun)\n",
    "#rmodel5=1.1550E+13/Rsun"
   ]
  },
  {
   "cell_type": "code",
   "execution_count": null,
   "metadata": {},
   "outputs": [],
   "source": [
    "#factor5=10**logL_rsg[indexes[i]]/2966.17588\n",
    "#factor5\n",
    "#rmodel5*np.sqrt(factor5)\n",
    "#1*factor5\n",
    "#use /home/ariggonz/Desktop/Betelgeuse/Model_v2/MARCS_MODELS/s3300_g+0.0_m1.0_t05_st_z+0.00_a+0.00_c+0.00_n+0.00_o+0.00_r+0.00_s+0.00.mod\n",
    "#factor5 17 instead but the rest is good! logg=0 instead of -0.2 (won't make a difference)"
   ]
  },
  {
   "cell_type": "code",
   "execution_count": 60,
   "metadata": {},
   "outputs": [
    {
     "data": {
      "text/plain": [
       "[0.8074209243845891, 1.122018454301963, 0.5064106925457186, 0.7012247977995835]"
      ]
     },
     "execution_count": 60,
     "metadata": {},
     "output_type": "execute_result"
    }
   ],
   "source": [
    "factors=[factor1, factor2, factor3, factor4]\n",
    "factors"
   ]
  },
  {
   "cell_type": "code",
   "execution_count": null,
   "metadata": {},
   "outputs": [],
   "source": [
    "np.log10(158107.27919*0.6)"
   ]
  },
  {
   "cell_type": "code",
   "execution_count": null,
   "metadata": {},
   "outputs": [],
   "source": [
    "#use i=2 and i=3 for now the best ones! \n",
    "logmdot_rsg[indexes[2:4]]\n",
    "logL_rsg[indexes[2:4]]"
   ]
  },
  {
   "cell_type": "code",
   "execution_count": null,
   "metadata": {},
   "outputs": [],
   "source": [
    "y_study"
   ]
  },
  {
   "cell_type": "code",
   "execution_count": null,
   "metadata": {},
   "outputs": [],
   "source": []
  }
 ],
 "metadata": {
  "kernelspec": {
   "display_name": "Python 3",
   "language": "python",
   "name": "python3"
  },
  "language_info": {
   "codemirror_mode": {
    "name": "ipython",
    "version": 3
   },
   "file_extension": ".py",
   "mimetype": "text/x-python",
   "name": "python",
   "nbconvert_exporter": "python",
   "pygments_lexer": "ipython3",
   "version": "3.7.4"
  }
 },
 "nbformat": 4,
 "nbformat_minor": 2
}
