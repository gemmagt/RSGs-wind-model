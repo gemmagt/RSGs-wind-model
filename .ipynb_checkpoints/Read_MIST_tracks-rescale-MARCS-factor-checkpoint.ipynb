{
 "cells": [
  {
   "cell_type": "markdown",
   "metadata": {},
   "source": [
    "# Find the MARCS scaling factor\n",
    "\n",
    "This program should not be modified!!!\n",
    "\n",
    "Here, we get the MIST evolutionary tracks for each different log L/Lsun and find the conversion factor to the initial MARCS models for \"MODEL_MARCS_WIND_FACTOR-15M_v3-grid-beta-gamma-V460-Car.ipynb\",\n",
    "\n",
    "The rest of the \"Read_MIST_tracks-rescale-MARCS-factor\" files are the same but for increasing masses and luminosities. Check the factors at the very end and the corresponding luminosities to decide the factor you want to use in your model!"
   ]
  },
  {
   "cell_type": "code",
   "execution_count": 1,
   "metadata": {},
   "outputs": [],
   "source": [
    "import numpy as np\n",
    "import pandas as pd\n",
    "import matplotlib.pyplot as plt\n",
    "%matplotlib qt"
   ]
  },
  {
   "cell_type": "code",
   "execution_count": 2,
   "metadata": {},
   "outputs": [
    {
     "data": {
      "text/html": [
       "<div>\n",
       "<style scoped>\n",
       "    .dataframe tbody tr th:only-of-type {\n",
       "        vertical-align: middle;\n",
       "    }\n",
       "\n",
       "    .dataframe tbody tr th {\n",
       "        vertical-align: top;\n",
       "    }\n",
       "\n",
       "    .dataframe thead th {\n",
       "        text-align: right;\n",
       "    }\n",
       "</style>\n",
       "<table border=\"1\" class=\"dataframe\">\n",
       "  <thead>\n",
       "    <tr style=\"text-align: right;\">\n",
       "      <th></th>\n",
       "      <th>star_age</th>\n",
       "      <th>star_mass</th>\n",
       "      <th>star_mdot</th>\n",
       "      <th>he_core_mass</th>\n",
       "      <th>c_core_mass</th>\n",
       "      <th>o_core_mass</th>\n",
       "      <th>log_L</th>\n",
       "      <th>log_L_div_Ledd</th>\n",
       "      <th>log_LH</th>\n",
       "      <th>log_LHe</th>\n",
       "      <th>...</th>\n",
       "      <th>delta_Pg</th>\n",
       "      <th>nu_max</th>\n",
       "      <th>acoustic_cutoff</th>\n",
       "      <th>max_conv_vel_div_csound</th>\n",
       "      <th>max_gradT_div_grada</th>\n",
       "      <th>gradT_excess_alpha</th>\n",
       "      <th>min_Pgas_div_P</th>\n",
       "      <th>max_L_rad_div_Ledd</th>\n",
       "      <th>e_thermal</th>\n",
       "      <th>phase</th>\n",
       "    </tr>\n",
       "  </thead>\n",
       "  <tbody>\n",
       "    <tr>\n",
       "      <td>0</td>\n",
       "      <td>2.346265e+02</td>\n",
       "      <td>10.999993</td>\n",
       "      <td>-2.586718e-08</td>\n",
       "      <td>0.000000</td>\n",
       "      <td>0.000000</td>\n",
       "      <td>0.0</td>\n",
       "      <td>3.740863</td>\n",
       "      <td>-3.066625</td>\n",
       "      <td>-6.214079</td>\n",
       "      <td>-99.000000</td>\n",
       "      <td>...</td>\n",
       "      <td>0.000000</td>\n",
       "      <td>1.849313</td>\n",
       "      <td>17.147745</td>\n",
       "      <td>0.592368</td>\n",
       "      <td>8.595046</td>\n",
       "      <td>0.0</td>\n",
       "      <td>0.923991</td>\n",
       "      <td>0.102595</td>\n",
       "      <td>3.133054e+48</td>\n",
       "      <td>-1.0</td>\n",
       "    </tr>\n",
       "    <tr>\n",
       "      <td>1</td>\n",
       "      <td>2.441932e+02</td>\n",
       "      <td>10.999993</td>\n",
       "      <td>-2.551342e-08</td>\n",
       "      <td>0.000000</td>\n",
       "      <td>0.000000</td>\n",
       "      <td>0.0</td>\n",
       "      <td>3.737964</td>\n",
       "      <td>-3.065949</td>\n",
       "      <td>-6.178204</td>\n",
       "      <td>-99.000000</td>\n",
       "      <td>...</td>\n",
       "      <td>0.000000</td>\n",
       "      <td>1.865825</td>\n",
       "      <td>17.301462</td>\n",
       "      <td>0.592395</td>\n",
       "      <td>8.588315</td>\n",
       "      <td>0.0</td>\n",
       "      <td>0.923992</td>\n",
       "      <td>0.102594</td>\n",
       "      <td>3.147363e+48</td>\n",
       "      <td>-1.0</td>\n",
       "    </tr>\n",
       "    <tr>\n",
       "      <td>2</td>\n",
       "      <td>2.541293e+02</td>\n",
       "      <td>10.999992</td>\n",
       "      <td>-2.521345e-08</td>\n",
       "      <td>0.000000</td>\n",
       "      <td>0.000000</td>\n",
       "      <td>0.0</td>\n",
       "      <td>3.734982</td>\n",
       "      <td>-3.066558</td>\n",
       "      <td>-6.141169</td>\n",
       "      <td>-99.000000</td>\n",
       "      <td>...</td>\n",
       "      <td>0.000000</td>\n",
       "      <td>1.883029</td>\n",
       "      <td>17.461628</td>\n",
       "      <td>0.592088</td>\n",
       "      <td>8.580929</td>\n",
       "      <td>0.0</td>\n",
       "      <td>0.923993</td>\n",
       "      <td>0.102591</td>\n",
       "      <td>3.162219e+48</td>\n",
       "      <td>-1.0</td>\n",
       "    </tr>\n",
       "    <tr>\n",
       "      <td>3</td>\n",
       "      <td>2.644516e+02</td>\n",
       "      <td>10.999992</td>\n",
       "      <td>-2.489682e-08</td>\n",
       "      <td>0.000000</td>\n",
       "      <td>0.000000</td>\n",
       "      <td>0.0</td>\n",
       "      <td>3.731879</td>\n",
       "      <td>-3.069507</td>\n",
       "      <td>-6.102924</td>\n",
       "      <td>-99.000000</td>\n",
       "      <td>...</td>\n",
       "      <td>0.000000</td>\n",
       "      <td>1.900991</td>\n",
       "      <td>17.628813</td>\n",
       "      <td>0.591819</td>\n",
       "      <td>8.572105</td>\n",
       "      <td>0.0</td>\n",
       "      <td>0.923994</td>\n",
       "      <td>0.102588</td>\n",
       "      <td>3.177652e+48</td>\n",
       "      <td>-1.0</td>\n",
       "    </tr>\n",
       "    <tr>\n",
       "      <td>4</td>\n",
       "      <td>2.751860e+02</td>\n",
       "      <td>10.999992</td>\n",
       "      <td>-2.455640e-08</td>\n",
       "      <td>0.000000</td>\n",
       "      <td>0.000000</td>\n",
       "      <td>0.0</td>\n",
       "      <td>3.728673</td>\n",
       "      <td>-3.070722</td>\n",
       "      <td>-6.062692</td>\n",
       "      <td>-99.000000</td>\n",
       "      <td>...</td>\n",
       "      <td>0.000000</td>\n",
       "      <td>1.920057</td>\n",
       "      <td>17.806371</td>\n",
       "      <td>0.591386</td>\n",
       "      <td>8.570901</td>\n",
       "      <td>0.0</td>\n",
       "      <td>0.923996</td>\n",
       "      <td>0.102584</td>\n",
       "      <td>3.193990e+48</td>\n",
       "      <td>-1.0</td>\n",
       "    </tr>\n",
       "    <tr>\n",
       "      <td>...</td>\n",
       "      <td>...</td>\n",
       "      <td>...</td>\n",
       "      <td>...</td>\n",
       "      <td>...</td>\n",
       "      <td>...</td>\n",
       "      <td>...</td>\n",
       "      <td>...</td>\n",
       "      <td>...</td>\n",
       "      <td>...</td>\n",
       "      <td>...</td>\n",
       "      <td>...</td>\n",
       "      <td>...</td>\n",
       "      <td>...</td>\n",
       "      <td>...</td>\n",
       "      <td>...</td>\n",
       "      <td>...</td>\n",
       "      <td>...</td>\n",
       "      <td>...</td>\n",
       "      <td>...</td>\n",
       "      <td>...</td>\n",
       "      <td>...</td>\n",
       "    </tr>\n",
       "    <tr>\n",
       "      <td>803</td>\n",
       "      <td>2.210237e+07</td>\n",
       "      <td>10.144090</td>\n",
       "      <td>-1.924454e-06</td>\n",
       "      <td>3.047964</td>\n",
       "      <td>1.710686</td>\n",
       "      <td>0.0</td>\n",
       "      <td>4.719952</td>\n",
       "      <td>-2.862295</td>\n",
       "      <td>4.252401</td>\n",
       "      <td>4.346283</td>\n",
       "      <td>...</td>\n",
       "      <td>73.896388</td>\n",
       "      <td>0.088823</td>\n",
       "      <td>0.810665</td>\n",
       "      <td>0.696803</td>\n",
       "      <td>11.716432</td>\n",
       "      <td>0.0</td>\n",
       "      <td>0.498354</td>\n",
       "      <td>0.600088</td>\n",
       "      <td>4.947849e+50</td>\n",
       "      <td>4.0</td>\n",
       "    </tr>\n",
       "    <tr>\n",
       "      <td>804</td>\n",
       "      <td>2.210272e+07</td>\n",
       "      <td>10.143419</td>\n",
       "      <td>-1.928222e-06</td>\n",
       "      <td>3.047964</td>\n",
       "      <td>1.714993</td>\n",
       "      <td>0.0</td>\n",
       "      <td>4.720319</td>\n",
       "      <td>-2.862052</td>\n",
       "      <td>4.193732</td>\n",
       "      <td>4.362281</td>\n",
       "      <td>...</td>\n",
       "      <td>70.265523</td>\n",
       "      <td>0.088712</td>\n",
       "      <td>0.809654</td>\n",
       "      <td>0.843679</td>\n",
       "      <td>11.717103</td>\n",
       "      <td>0.0</td>\n",
       "      <td>0.498090</td>\n",
       "      <td>0.600984</td>\n",
       "      <td>5.001972e+50</td>\n",
       "      <td>4.0</td>\n",
       "    </tr>\n",
       "    <tr>\n",
       "      <td>805</td>\n",
       "      <td>2.210293e+07</td>\n",
       "      <td>10.143026</td>\n",
       "      <td>-1.929973e-06</td>\n",
       "      <td>3.047964</td>\n",
       "      <td>1.718782</td>\n",
       "      <td>0.0</td>\n",
       "      <td>4.720454</td>\n",
       "      <td>-2.862224</td>\n",
       "      <td>4.128205</td>\n",
       "      <td>4.380833</td>\n",
       "      <td>...</td>\n",
       "      <td>66.151378</td>\n",
       "      <td>0.088670</td>\n",
       "      <td>0.809268</td>\n",
       "      <td>0.696649</td>\n",
       "      <td>11.717339</td>\n",
       "      <td>0.0</td>\n",
       "      <td>0.497939</td>\n",
       "      <td>0.600732</td>\n",
       "      <td>5.053538e+50</td>\n",
       "      <td>4.0</td>\n",
       "    </tr>\n",
       "    <tr>\n",
       "      <td>806</td>\n",
       "      <td>2.210305e+07</td>\n",
       "      <td>10.142792</td>\n",
       "      <td>-1.930650e-06</td>\n",
       "      <td>3.047964</td>\n",
       "      <td>1.721084</td>\n",
       "      <td>0.0</td>\n",
       "      <td>4.720497</td>\n",
       "      <td>-2.862000</td>\n",
       "      <td>4.052022</td>\n",
       "      <td>4.402165</td>\n",
       "      <td>...</td>\n",
       "      <td>61.977301</td>\n",
       "      <td>0.088655</td>\n",
       "      <td>0.809136</td>\n",
       "      <td>129.570184</td>\n",
       "      <td>11.717316</td>\n",
       "      <td>0.0</td>\n",
       "      <td>0.497840</td>\n",
       "      <td>0.600713</td>\n",
       "      <td>5.102264e+50</td>\n",
       "      <td>4.0</td>\n",
       "    </tr>\n",
       "    <tr>\n",
       "      <td>807</td>\n",
       "      <td>2.210313e+07</td>\n",
       "      <td>10.142625</td>\n",
       "      <td>-1.930984e-06</td>\n",
       "      <td>3.047964</td>\n",
       "      <td>1.722673</td>\n",
       "      <td>0.0</td>\n",
       "      <td>4.720511</td>\n",
       "      <td>-2.861378</td>\n",
       "      <td>3.969922</td>\n",
       "      <td>4.424924</td>\n",
       "      <td>...</td>\n",
       "      <td>57.884016</td>\n",
       "      <td>0.088649</td>\n",
       "      <td>0.809085</td>\n",
       "      <td>516.529600</td>\n",
       "      <td>11.717383</td>\n",
       "      <td>0.0</td>\n",
       "      <td>0.497923</td>\n",
       "      <td>0.600734</td>\n",
       "      <td>5.149301e+50</td>\n",
       "      <td>5.0</td>\n",
       "    </tr>\n",
       "  </tbody>\n",
       "</table>\n",
       "<p>808 rows × 77 columns</p>\n",
       "</div>"
      ],
      "text/plain": [
       "         star_age  star_mass     star_mdot  he_core_mass  c_core_mass  \\\n",
       "0    2.346265e+02  10.999993 -2.586718e-08      0.000000     0.000000   \n",
       "1    2.441932e+02  10.999993 -2.551342e-08      0.000000     0.000000   \n",
       "2    2.541293e+02  10.999992 -2.521345e-08      0.000000     0.000000   \n",
       "3    2.644516e+02  10.999992 -2.489682e-08      0.000000     0.000000   \n",
       "4    2.751860e+02  10.999992 -2.455640e-08      0.000000     0.000000   \n",
       "..            ...        ...           ...           ...          ...   \n",
       "803  2.210237e+07  10.144090 -1.924454e-06      3.047964     1.710686   \n",
       "804  2.210272e+07  10.143419 -1.928222e-06      3.047964     1.714993   \n",
       "805  2.210293e+07  10.143026 -1.929973e-06      3.047964     1.718782   \n",
       "806  2.210305e+07  10.142792 -1.930650e-06      3.047964     1.721084   \n",
       "807  2.210313e+07  10.142625 -1.930984e-06      3.047964     1.722673   \n",
       "\n",
       "     o_core_mass     log_L  log_L_div_Ledd    log_LH    log_LHe  ...  \\\n",
       "0            0.0  3.740863       -3.066625 -6.214079 -99.000000  ...   \n",
       "1            0.0  3.737964       -3.065949 -6.178204 -99.000000  ...   \n",
       "2            0.0  3.734982       -3.066558 -6.141169 -99.000000  ...   \n",
       "3            0.0  3.731879       -3.069507 -6.102924 -99.000000  ...   \n",
       "4            0.0  3.728673       -3.070722 -6.062692 -99.000000  ...   \n",
       "..           ...       ...             ...       ...        ...  ...   \n",
       "803          0.0  4.719952       -2.862295  4.252401   4.346283  ...   \n",
       "804          0.0  4.720319       -2.862052  4.193732   4.362281  ...   \n",
       "805          0.0  4.720454       -2.862224  4.128205   4.380833  ...   \n",
       "806          0.0  4.720497       -2.862000  4.052022   4.402165  ...   \n",
       "807          0.0  4.720511       -2.861378  3.969922   4.424924  ...   \n",
       "\n",
       "      delta_Pg    nu_max  acoustic_cutoff  max_conv_vel_div_csound  \\\n",
       "0     0.000000  1.849313        17.147745                 0.592368   \n",
       "1     0.000000  1.865825        17.301462                 0.592395   \n",
       "2     0.000000  1.883029        17.461628                 0.592088   \n",
       "3     0.000000  1.900991        17.628813                 0.591819   \n",
       "4     0.000000  1.920057        17.806371                 0.591386   \n",
       "..         ...       ...              ...                      ...   \n",
       "803  73.896388  0.088823         0.810665                 0.696803   \n",
       "804  70.265523  0.088712         0.809654                 0.843679   \n",
       "805  66.151378  0.088670         0.809268                 0.696649   \n",
       "806  61.977301  0.088655         0.809136               129.570184   \n",
       "807  57.884016  0.088649         0.809085               516.529600   \n",
       "\n",
       "     max_gradT_div_grada  gradT_excess_alpha  min_Pgas_div_P  \\\n",
       "0               8.595046                 0.0        0.923991   \n",
       "1               8.588315                 0.0        0.923992   \n",
       "2               8.580929                 0.0        0.923993   \n",
       "3               8.572105                 0.0        0.923994   \n",
       "4               8.570901                 0.0        0.923996   \n",
       "..                   ...                 ...             ...   \n",
       "803            11.716432                 0.0        0.498354   \n",
       "804            11.717103                 0.0        0.498090   \n",
       "805            11.717339                 0.0        0.497939   \n",
       "806            11.717316                 0.0        0.497840   \n",
       "807            11.717383                 0.0        0.497923   \n",
       "\n",
       "     max_L_rad_div_Ledd     e_thermal  phase  \n",
       "0              0.102595  3.133054e+48   -1.0  \n",
       "1              0.102594  3.147363e+48   -1.0  \n",
       "2              0.102591  3.162219e+48   -1.0  \n",
       "3              0.102588  3.177652e+48   -1.0  \n",
       "4              0.102584  3.193990e+48   -1.0  \n",
       "..                  ...           ...    ...  \n",
       "803            0.600088  4.947849e+50    4.0  \n",
       "804            0.600984  5.001972e+50    4.0  \n",
       "805            0.600732  5.053538e+50    4.0  \n",
       "806            0.600713  5.102264e+50    4.0  \n",
       "807            0.600734  5.149301e+50    5.0  \n",
       "\n",
       "[808 rows x 77 columns]"
      ]
     },
     "execution_count": 2,
     "metadata": {},
     "output_type": "execute_result"
    }
   ],
   "source": [
    "mist=pd.read_table(\"/home/ariggonz/Desktop/Betelgeuse/Model_v2/MIST_v1.2_feh_p0.00_afe_p0.0_vvcrit0.0_EEPS/01100M.track.eep\", skiprows=11, sep=\"\\s+\")\n",
    "mist"
   ]
  },
  {
   "cell_type": "code",
   "execution_count": 3,
   "metadata": {},
   "outputs": [
    {
     "data": {
      "image/png": "[encoded data removed]",
      "text/plain": [
       "<Figure size 720x720 with 1 Axes>"
      ]
     },
     "metadata": {
      "needs_background": "light"
     },
     "output_type": "display_data"
    }
   ],
   "source": [
    "mass=mist[\"star_mass\"]\n",
    "age=mist[\"star_age\"]\n",
    "teff=10**mist[\"log_Teff\"]\n",
    "#l_sun=3.828e+26 #in watts\n",
    "log_L=mist[\"log_L\"] #in Lsun units already\n",
    "log_g=mist[\"log_g\"]\n",
    "R=10**mist[\"log_R\"] #in Rsun units\n",
    "log_mdot=np.log10(np.abs(mist[\"star_mdot\"]))\n",
    "log_mdot\n",
    "teff\n",
    "fig=plt.figure(figsize=(10,10))\n",
    "ax=fig.add_subplot((111))\n",
    "ax.plot(teff, log_L)\n",
    "ax.invert_xaxis()"
   ]
  },
  {
   "cell_type": "code",
   "execution_count": 4,
   "metadata": {},
   "outputs": [
    {
     "data": {
      "text/plain": [
       "(5000.0, 2000.0)"
      ]
     },
     "execution_count": 4,
     "metadata": {},
     "output_type": "execute_result"
    },
    {
     "data": {
      "image/png": "[encoded data removed]",
      "text/plain": [
       "<Figure size 720x720 with 1 Axes>"
      ]
     },
     "metadata": {
      "needs_background": "light"
     },
     "output_type": "display_data"
    }
   ],
   "source": [
    "cond_teff=(2000<=teff)&(5000>=teff)\n",
    "cond_lum=(4.3<=log_L)&(6>=log_L)\n",
    "fig=plt.figure(figsize=(10,10))\n",
    "ax=fig.add_subplot((111))\n",
    "ax.plot(teff[cond_teff&cond_lum], log_L[cond_teff&cond_lum], \".\")\n",
    "ax.invert_xaxis()\n",
    "ax.set_xlim(5000,2000)\n",
    "\n"
   ]
  },
  {
   "cell_type": "code",
   "execution_count": 5,
   "metadata": {},
   "outputs": [
    {
     "name": "stdout",
     "output_type": "stream",
     "text": [
      "597    10.816623\n",
      "598    10.816541\n",
      "599    10.816398\n",
      "600    10.816086\n",
      "601    10.815312\n",
      "         ...    \n",
      "803    10.144090\n",
      "804    10.143419\n",
      "805    10.143026\n",
      "806    10.142792\n",
      "807    10.142625\n",
      "Name: star_mass, Length: 176, dtype: float64\n",
      "597    2.002149e+07\n",
      "598    2.002174e+07\n",
      "599    2.002213e+07\n",
      "600    2.002290e+07\n",
      "601    2.002464e+07\n",
      "           ...     \n",
      "803    2.210237e+07\n",
      "804    2.210272e+07\n",
      "805    2.210293e+07\n",
      "806    2.210305e+07\n",
      "807    2.210313e+07\n",
      "Name: star_age, Length: 176, dtype: float64\n",
      "597    0.390169\n",
      "598    0.358042\n",
      "599    0.326005\n",
      "600    0.294358\n",
      "601    0.264037\n",
      "         ...   \n",
      "803   -0.223369\n",
      "804   -0.223934\n",
      "805   -0.224153\n",
      "806   -0.224230\n",
      "807   -0.224261\n",
      "Name: log_g, Length: 176, dtype: float64\n",
      "597    347.563882\n",
      "598    360.658642\n",
      "599    374.207232\n",
      "600    388.087269\n",
      "601    401.859363\n",
      "          ...    \n",
      "803    682.125046\n",
      "804    682.546789\n",
      "805    682.705549\n",
      "806    682.757833\n",
      "807    682.776569\n",
      "Name: log_R, Length: 176, dtype: float64\n",
      "597   -6.509246\n",
      "598   -6.464934\n",
      "599   -6.420632\n",
      "600   -6.376503\n",
      "601   -6.334031\n",
      "         ...   \n",
      "803   -5.715692\n",
      "804   -5.714843\n",
      "805   -5.714449\n",
      "806   -5.714296\n",
      "807   -5.714221\n",
      "Name: star_mdot, Length: 176, dtype: float64\n",
      "597    4.317762\n",
      "598    4.340085\n",
      "599    4.362356\n",
      "600    4.384404\n",
      "601    4.405596\n",
      "         ...   \n",
      "803    4.719952\n",
      "804    4.720319\n",
      "805    4.720454\n",
      "806    4.720497\n",
      "807    4.720511\n",
      "Name: log_L, Length: 176, dtype: float64\n",
      "597    3717.593122\n",
      "598    3696.679079\n",
      "599    3675.965722\n",
      "600    3655.736301\n",
      "601    3636.640993\n",
      "          ...     \n",
      "803    3344.987784\n",
      "804    3344.660094\n",
      "805    3344.532501\n",
      "806    3344.487314\n",
      "807    3344.468632\n",
      "Name: log_Teff, Length: 176, dtype: float64\n"
     ]
    }
   ],
   "source": [
    "print(mass[cond_teff&cond_lum])\n",
    "print(age[cond_teff&cond_lum])\n",
    "print(log_g[cond_teff&cond_lum])\n",
    "print(R[cond_teff&cond_lum])\n",
    "print(log_mdot[cond_teff&cond_lum])\n",
    "print(log_L[cond_teff&cond_lum])\n",
    "print(teff[cond_teff&cond_lum])"
   ]
  },
  {
   "cell_type": "code",
   "execution_count": 6,
   "metadata": {},
   "outputs": [],
   "source": [
    "mass_rsg=mass[cond_teff&cond_lum]\n",
    "age_rsg=age[cond_teff&cond_lum]\n",
    "logg_rsg=log_g[cond_teff&cond_lum]\n",
    "r_rsg=R[cond_teff&cond_lum]\n",
    "logmdot_rsg=log_mdot[cond_teff&cond_lum]\n",
    "logL_rsg=log_L[cond_teff&cond_lum]\n",
    "teff_rsg=teff[cond_teff&cond_lum]"
   ]
  },
  {
   "cell_type": "code",
   "execution_count": 1,
   "metadata": {},
   "outputs": [
    {
     "ename": "NameError",
     "evalue": "name 'logL_rsg' is not defined",
     "output_type": "error",
     "traceback": [
      "\u001b[0;31m---------------------------------------------------------------------------\u001b[0m",
      "\u001b[0;31mNameError\u001b[0m                                 Traceback (most recent call last)",
      "\u001b[0;32m<ipython-input-1-148cdcbd16e2>\u001b[0m in \u001b[0;36m<module>\u001b[0;34m\u001b[0m\n\u001b[1;32m      1\u001b[0m \u001b[0mtol\u001b[0m\u001b[0;34m=\u001b[0m\u001b[0;36m0.01\u001b[0m\u001b[0;34m\u001b[0m\u001b[0;34m\u001b[0m\u001b[0m\n\u001b[0;32m----> 2\u001b[0;31m \u001b[0mlogL_rsg\u001b[0m\u001b[0;34m\u001b[0m\u001b[0;34m\u001b[0m\u001b[0m\n\u001b[0m\u001b[1;32m      3\u001b[0m \u001b[0;31m#np.array(age_rsg[indexes])\u001b[0m\u001b[0;34m\u001b[0m\u001b[0;34m\u001b[0m\u001b[0;34m\u001b[0m\u001b[0m\n",
      "\u001b[0;31mNameError\u001b[0m: name 'logL_rsg' is not defined"
     ]
    }
   ],
   "source": [
    "tol=0.01\n",
    "logL_rsg\n",
    "#np.array(age_rsg[indexes])"
   ]
  },
  {
   "cell_type": "code",
   "execution_count": 8,
   "metadata": {},
   "outputs": [
    {
     "data": {
      "text/plain": [
       "array([4.3177624 , 4.4055956 , 4.50542495, 4.60039532, 4.71995183])"
      ]
     },
     "execution_count": 8,
     "metadata": {},
     "output_type": "execute_result"
    }
   ],
   "source": [
    "(807-597)/5\n",
    "#indexes=np.linspace(597,807,5).astype(int)\n",
    "#logL_rsg[indexes]\n",
    "indexes=[597,601,742,759,803]\n",
    "np.array(logL_rsg[indexes])"
   ]
  },
  {
   "cell_type": "code",
   "execution_count": 9,
   "metadata": {},
   "outputs": [
    {
     "data": {
      "text/plain": [
       "array([347.56388215, 401.85936337, 478.5724838 , 560.19303511,\n",
       "       682.12504621])"
      ]
     },
     "execution_count": 9,
     "metadata": {},
     "output_type": "execute_result"
    }
   ],
   "source": [
    "np.array(r_rsg[indexes])"
   ]
  },
  {
   "cell_type": "code",
   "execution_count": 10,
   "metadata": {},
   "outputs": [
    {
     "data": {
      "text/plain": [
       "array([10.81662262, 10.81531211, 10.19329389, 10.18034911, 10.14408957])"
      ]
     },
     "execution_count": 10,
     "metadata": {},
     "output_type": "execute_result"
    }
   ],
   "source": [
    "np.array(mass_rsg[indexes])"
   ]
  },
  {
   "cell_type": "code",
   "execution_count": 11,
   "metadata": {},
   "outputs": [
    {
     "data": {
      "text/plain": [
       "array([ 0.39016862,  0.26403709,  0.08656531, -0.05076653, -0.2233687 ])"
      ]
     },
     "execution_count": 11,
     "metadata": {},
     "output_type": "execute_result"
    }
   ],
   "source": [
    "np.array(logg_rsg[indexes])"
   ]
  },
  {
   "cell_type": "code",
   "execution_count": 12,
   "metadata": {},
   "outputs": [
    {
     "data": {
      "text/plain": [
       "array([3717.59312179, 3636.64099267, 3529.56310727, 3445.62931034,\n",
       "       3344.98778381])"
      ]
     },
     "execution_count": 12,
     "metadata": {},
     "output_type": "execute_result"
    }
   ],
   "source": [
    "np.array(teff_rsg[indexes])"
   ]
  },
  {
   "cell_type": "code",
   "execution_count": 13,
   "metadata": {},
   "outputs": [
    {
     "data": {
      "text/plain": [
       "array([-7.6343714 , -7.29006525, -6.8987342 , -6.52645035, -6.05778882])"
      ]
     },
     "execution_count": 13,
     "metadata": {},
     "output_type": "execute_result"
    }
   ],
   "source": [
    "#add Beasor+20 relation\n",
    "a=-24.56\n",
    "erra=1.65\n",
    "b=3.92\n",
    "errb=0.35\n",
    "x=np.linspace(4.2, 5.6, 20)\n",
    "y=a+b*x\n",
    "x_study=logL_rsg[indexes]\n",
    "y_study=a+b*np.array(x_study)\n",
    "y_study"
   ]
  },
  {
   "cell_type": "code",
   "execution_count": 14,
   "metadata": {},
   "outputs": [
    {
     "name": "stdout",
     "output_type": "stream",
     "text": [
      "597   -6.509246\n",
      "601   -6.334031\n",
      "742   -6.136175\n",
      "759   -5.950805\n",
      "803   -5.715692\n",
      "Name: star_mdot, dtype: float64\n"
     ]
    }
   ],
   "source": [
    "print(logmdot_rsg[indexes])"
   ]
  },
  {
   "cell_type": "code",
   "execution_count": 15,
   "metadata": {},
   "outputs": [
    {
     "name": "stdout",
     "output_type": "stream",
     "text": [
      "4.317762398382548 3717.5931217928046 0.3901686166349641\n",
      "10.816622622687913 347.5638821499043\n"
     ]
    }
   ],
   "source": [
    "# Re-escaling the MARCS model\n",
    "#for the first logL_rsg=4.3\n",
    "i=0\n",
    "print(logL_rsg[indexes[i]],teff_rsg[indexes[i]], logg_rsg[indexes[i]])\n",
    "print(mass_rsg[indexes[i]],r_rsg[indexes[i]])"
   ]
  },
  {
   "cell_type": "code",
   "execution_count": 16,
   "metadata": {},
   "outputs": [
    {
     "name": "stdout",
     "output_type": "stream",
     "text": [
      "361.5926405059652\n",
      "0.8320478940529163\n"
     ]
    }
   ],
   "source": [
    "np.log10(22150.41016)\n",
    "Rsun=6.957e+10\n",
    "rmodel1=2.5156E+13/Rsun\n",
    "print(rmodel1)\n",
    "#use model file:///home/ariggonz/Desktop/Betelgeuse/Model_v2/MARCS_MODELS/s3700_g+0.5_m15._t05_st_z+0.00_a+0.00_c+0.00_n+0.00_o+0.00_r+0.00_s+0.00.mod\n",
    "#use factor1 mass to 12.8 so great log from 4.3 to 4.2!\n",
    "factor=mass_rsg[indexes[i]]/13\n",
    "print(factor)\n",
    "factor1=factor"
   ]
  },
  {
   "cell_type": "code",
   "execution_count": 18,
   "metadata": {},
   "outputs": [
    {
     "data": {
      "text/plain": [
       "329.8327270765396"
      ]
     },
     "execution_count": 18,
     "metadata": {},
     "output_type": "execute_result"
    }
   ],
   "source": [
    "rmodel1*np.sqrt(factor)"
   ]
  },
  {
   "cell_type": "code",
   "execution_count": 19,
   "metadata": {},
   "outputs": [
    {
     "name": "stdout",
     "output_type": "stream",
     "text": [
      "12.480718410793745\n"
     ]
    },
    {
     "data": {
      "text/plain": [
       "4.220148325718898"
      ]
     },
     "execution_count": 19,
     "metadata": {},
     "output_type": "execute_result"
    }
   ],
   "source": [
    "print(15*factor)\n",
    "np.log10(factor*10**4.3)"
   ]
  },
  {
   "cell_type": "code",
   "execution_count": 20,
   "metadata": {},
   "outputs": [
    {
     "name": "stdout",
     "output_type": "stream",
     "text": [
      "4.405595598788188 3636.6409926665765 0.2640370906361084\n",
      "10.815312109194467 401.8593633679475\n",
      "---MARCS----\n",
      "4.297797199009824\n",
      "361.5926405059652\n"
     ]
    }
   ],
   "source": [
    "##for the first logL_rsg=4.4\n",
    "i=1\n",
    "print(logL_rsg[indexes[i]],teff_rsg[indexes[i]], logg_rsg[indexes[i]])\n",
    "print(mass_rsg[indexes[i]],r_rsg[indexes[i]])\n",
    "print(\"---MARCS----\")\n",
    "print(np.log10(19851.67694))\n",
    "print(2.5156E+13/Rsun)\n",
    "rmodel2=2.5156E+13/Rsun"
   ]
  },
  {
   "cell_type": "code",
   "execution_count": 231,
   "metadata": {},
   "outputs": [
    {
     "data": {
      "text/plain": [
       "18.97990612406356"
      ]
     },
     "execution_count": 231,
     "metadata": {},
     "output_type": "execute_result"
    }
   ],
   "source": [
    "factor2=10**4.4/19851.67694\n",
    "rmodel2*np.sqrt(factor2)\n",
    "15*factor2\n",
    "#use /home/ariggonz/Desktop/Betelgeuse/Model_v2/MARCS_MODELS/s3600_g+0.5_m15._t05_st_z+0.00_a+0.00_c+0.00_n+0.00_o+0.00_r+0.00_s+0.00.mod\n",
    "#factor2 will increase the mass from 11 to 19! Maybe use the other relation in Beasor+20"
   ]
  },
  {
   "cell_type": "code",
   "execution_count": 229,
   "metadata": {},
   "outputs": [
    {
     "name": "stdout",
     "output_type": "stream",
     "text": [
      "4.505424950178456 3529.563107271272 0.08656530984598483\n",
      "10.19329388890109 478.5724838012439\n",
      "---MARCS----\n",
      "4.749026407050079\n",
      "643.0070432657755\n"
     ]
    }
   ],
   "source": [
    "##for the first logL_rsg=4.5\n",
    "i=2\n",
    "print(logL_rsg[indexes[i]],teff_rsg[indexes[i]], logg_rsg[indexes[i]])\n",
    "print(mass_rsg[indexes[i]],r_rsg[indexes[i]])\n",
    "print(\"---MARCS----\")\n",
    "print(np.log10(56108.20913))\n",
    "print(4.4734E+13/Rsun)\n",
    "rmodel3=4.4734E+13/Rsun"
   ]
  },
  {
   "cell_type": "code",
   "execution_count": 230,
   "metadata": {},
   "outputs": [
    {
     "name": "stdout",
     "output_type": "stream",
     "text": [
      "485.75245210376323\n"
     ]
    },
    {
     "data": {
      "text/plain": [
       "8.560316107156774"
      ]
     },
     "execution_count": 230,
     "metadata": {},
     "output_type": "execute_result"
    }
   ],
   "source": [
    "factor3=10**logL_rsg[indexes[i]]/56108.20913\n",
    "factor3\n",
    "print(rmodel3*np.sqrt(factor3))\n",
    "15*factor3\n",
    "#Use /home/ariggonz/Desktop/Betelgeuse/Model_v2/MARCS_MODELS/s3500_g+0.0_m15._t05_st_z+0.00_a+0.00_c+0.00_n+0.00_o+0.00_r+0.00_s+0.00.mod\n",
    "#with factor3 (mass ~8.6 so not bad)\n",
    "#the best one!"
   ]
  },
  {
   "cell_type": "code",
   "execution_count": 204,
   "metadata": {},
   "outputs": [
    {
     "name": "stdout",
     "output_type": "stream",
     "text": [
      "4.600395317936576 3445.629310343096 -0.050766526170270256\n",
      "10.180349111260325 560.193035114191\n",
      "---MARCS----\n",
      "4.749026407050079\n",
      "643.0070432657755\n"
     ]
    }
   ],
   "source": [
    "##for the first logL_rsg=4.6\n",
    "i=3\n",
    "print(logL_rsg[indexes[i]],teff_rsg[indexes[i]], logg_rsg[indexes[i]])\n",
    "print(mass_rsg[indexes[i]],r_rsg[indexes[i]])\n",
    "print(\"---MARCS----\")\n",
    "print(np.log10(56108.20913))\n",
    "print(4.4734E+13/Rsun)\n",
    "rmodel4=4.4734E+13/Rsun"
   ]
  },
  {
   "cell_type": "code",
   "execution_count": 205,
   "metadata": {},
   "outputs": [
    {
     "data": {
      "text/plain": [
       "10.652711609349108"
      ]
     },
     "execution_count": 205,
     "metadata": {},
     "output_type": "execute_result"
    }
   ],
   "source": [
    "factor4=10**logL_rsg[indexes[i]]/56108.20913\n",
    "factor4\n",
    "rmodel4*np.sqrt(factor4)\n",
    "15*factor4\n",
    "#Use /home/ariggonz/Desktop/Betelgeuse/Model_v2/MARCS_MODELS/s3500_g+0.0_m15._t05_st_z+0.00_a+0.00_c+0.00_n+0.00_o+0.00_r+0.00_s+0.00.mod\n",
    "#with factor4 (mass ~10 so not bad)\n",
    "#the second best one!"
   ]
  },
  {
   "cell_type": "code",
   "execution_count": 206,
   "metadata": {},
   "outputs": [
    {
     "name": "stdout",
     "output_type": "stream",
     "text": [
      "4.71995183216124 3344.987783813802 -0.22336870395913647\n",
      "10.144089572232602 682.1250462092822\n",
      "---MARCS----\n",
      "3.4721968990351946\n",
      "166.01983613626564\n"
     ]
    }
   ],
   "source": [
    "##for the first logL_rsg=4.7\n",
    "i=4\n",
    "print(logL_rsg[indexes[i]],teff_rsg[indexes[i]], logg_rsg[indexes[i]])\n",
    "print(mass_rsg[indexes[i]],r_rsg[indexes[i]])\n",
    "print(\"---MARCS----\")\n",
    "print(np.log10(2966.17588))\n",
    "print(1.1550E+13/Rsun)\n",
    "rmodel5=1.1550E+13/Rsun"
   ]
  },
  {
   "cell_type": "code",
   "execution_count": 207,
   "metadata": {},
   "outputs": [
    {
     "data": {
      "text/plain": [
       "17.691103900244038"
      ]
     },
     "execution_count": 207,
     "metadata": {},
     "output_type": "execute_result"
    }
   ],
   "source": [
    "factor5=10**logL_rsg[indexes[i]]/2966.17588\n",
    "factor5\n",
    "rmodel5*np.sqrt(factor5)\n",
    "1*factor5\n",
    "#use /home/ariggonz/Desktop/Betelgeuse/Model_v2/MARCS_MODELS/s3300_g+0.0_m1.0_t05_st_z+0.00_a+0.00_c+0.00_n+0.00_o+0.00_r+0.00_s+0.00.mod\n",
    "#factor5 17 instead but the rest is good! logg=0 instead of -0.2 (won't make a difference)"
   ]
  },
  {
   "cell_type": "code",
   "execution_count": 208,
   "metadata": {},
   "outputs": [
    {
     "data": {
      "text/plain": [
       "[0.8320478940529163,\n",
       " 1.2653270749375707,\n",
       " 0.5706877404771183,\n",
       " 0.7101807739566072,\n",
       " 17.691103900244038]"
      ]
     },
     "execution_count": 208,
     "metadata": {},
     "output_type": "execute_result"
    }
   ],
   "source": [
    "factors=[factor1, factor2, factor3, factor4, factor5]\n",
    "factors"
   ]
  },
  {
   "cell_type": "code",
   "execution_count": 209,
   "metadata": {},
   "outputs": [
    {
     "data": {
      "text/plain": [
       "4.977103115504189"
      ]
     },
     "execution_count": 209,
     "metadata": {},
     "output_type": "execute_result"
    }
   ],
   "source": [
    "np.log10(158107.27919*0.6)"
   ]
  },
  {
   "cell_type": "code",
   "execution_count": 227,
   "metadata": {},
   "outputs": [
    {
     "data": {
      "text/plain": [
       "742    4.505425\n",
       "759    4.600395\n",
       "Name: log_L, dtype: float64"
      ]
     },
     "execution_count": 227,
     "metadata": {},
     "output_type": "execute_result"
    }
   ],
   "source": [
    "#use i=2 and i=3 for now the best ones! \n",
    "logmdot_rsg[indexes[2:4]]\n",
    "logL_rsg[indexes[2:4]]"
   ]
  },
  {
   "cell_type": "code",
   "execution_count": 216,
   "metadata": {},
   "outputs": [
    {
     "data": {
      "text/plain": [
       "array([-7.6343714 , -7.29006525, -6.8987342 , -6.52645035, -6.05778882])"
      ]
     },
     "execution_count": 216,
     "metadata": {},
     "output_type": "execute_result"
    }
   ],
   "source": [
    "y_study"
   ]
  },
  {
   "cell_type": "code",
   "execution_count": null,
   "metadata": {},
   "outputs": [],
   "source": []
  }
 ],
 "metadata": {
  "kernelspec": {
   "display_name": "Python 3",
   "language": "python",
   "name": "python3"
  },
  "language_info": {
   "codemirror_mode": {
    "name": "ipython",
    "version": 3
   },
   "file_extension": ".py",
   "mimetype": "text/x-python",
   "name": "python",
   "nbconvert_exporter": "python",
   "pygments_lexer": "ipython3",
   "version": "3.7.4"
  }
 },
 "nbformat": 4,
 "nbformat_minor": 2
}
